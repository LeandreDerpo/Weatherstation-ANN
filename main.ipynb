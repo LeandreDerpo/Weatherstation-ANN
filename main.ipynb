{
 "cells": [
  {
   "cell_type": "markdown",
   "id": "6ad570e7",
   "metadata": {},
   "source": [
    "# Weather Identifier with ANN & ESP32\n",
    "\n",
    "KMITL - Artificial Intelligence Technology (01416500)\n",
    "March - April 2022\n",
    "\n",
    "Author:\n",
    "Joseph Leandre Derpo - 63110107\n",
    "Cherntay-Shih - 63110106\n",
    "Nonthakorn Chencharatmatha - 63110114\n"
   ]
  },
  {
   "cell_type": "markdown",
   "id": "63890b8b",
   "metadata": {
    "id": "63890b8b"
   },
   "source": [
    "#### Problems\n",
    "Predicting the weather conditions using the ANN architecture with TFLite and ESP32"
   ]
  },
  {
   "cell_type": "markdown",
   "id": "c8ef91ec",
   "metadata": {
    "id": "c8ef91ec"
   },
   "source": [
    "#### Data Engineering"
   ]
  },
  {
   "cell_type": "code",
   "execution_count": null,
   "id": "VtUjsXCxGQnz",
   "metadata": {
    "colab": {
     "base_uri": "https://localhost:8080/"
    },
    "id": "VtUjsXCxGQnz",
    "outputId": "78a5b77c-a9a8-473b-efbc-1c03a9099d18"
   },
   "outputs": [
    {
     "name": "stdout",
     "output_type": "stream",
     "text": [
      "Mounted at /content/drive\n"
     ]
    }
   ],
   "source": [
    "from google.colab import drive\n",
    "drive.mount('/content/drive')"
   ]
  },
  {
   "cell_type": "code",
   "execution_count": null,
   "id": "6MpLR5v86GV9",
   "metadata": {
    "id": "6MpLR5v86GV9"
   },
   "outputs": [],
   "source": [
    "# pip install 'h5py==2.10.1' --force-reinstall"
   ]
  },
  {
   "cell_type": "code",
   "execution_count": null,
   "id": "47aS3CEK7q_v",
   "metadata": {
    "colab": {
     "base_uri": "https://localhost:8080/"
    },
    "id": "47aS3CEK7q_v",
    "outputId": "bc51b59f-d460-4614-88dd-db4a3d3a36fe"
   },
   "outputs": [
    {
     "name": "stdout",
     "output_type": "stream",
     "text": [
      "Found existing installation: h5py 3.1.0\n",
      "Uninstalling h5py-3.1.0:\n",
      "  Would remove:\n",
      "    /usr/local/lib/python3.7/dist-packages/h5py-3.1.0.dist-info/*\n",
      "    /usr/local/lib/python3.7/dist-packages/h5py.libs/libaec-9c9e97eb.so.0.0.10\n",
      "    /usr/local/lib/python3.7/dist-packages/h5py.libs/libhdf5-00e8fae8.so.200.0.0\n",
      "    /usr/local/lib/python3.7/dist-packages/h5py.libs/libhdf5_hl-383c339f.so.200.0.0\n",
      "    /usr/local/lib/python3.7/dist-packages/h5py.libs/libsz-e7aa62f5.so.2.0.1\n",
      "    /usr/local/lib/python3.7/dist-packages/h5py.libs/libz-eb09ad1d.so.1.2.3\n",
      "    /usr/local/lib/python3.7/dist-packages/h5py/*\n",
      "Proceed (y/n)? y\n",
      "  Successfully uninstalled h5py-3.1.0\n",
      "Collecting h5py==2.10.0\n",
      "  Downloading h5py-2.10.0-cp37-cp37m-manylinux1_x86_64.whl (2.9 MB)\n",
      "\u001b[K     |████████████████████████████████| 2.9 MB 5.3 MB/s \n",
      "\u001b[?25hRequirement already satisfied: numpy>=1.7 in /usr/local/lib/python3.7/dist-packages (from h5py==2.10.0) (1.21.5)\n",
      "Requirement already satisfied: six in /usr/local/lib/python3.7/dist-packages (from h5py==2.10.0) (1.15.0)\n",
      "Installing collected packages: h5py\n",
      "\u001b[31mERROR: pip's dependency resolver does not currently take into account all the packages that are installed. This behaviour is the source of the following dependency conflicts.\n",
      "tensorflow 2.8.0 requires tf-estimator-nightly==2.8.0.dev2021122109, which is not installed.\u001b[0m\n",
      "Successfully installed h5py-2.10.0\n"
     ]
    }
   ],
   "source": [
    "!pip uninstall h5py\n",
    "!pip install h5py==2.10.0"
   ]
  },
  {
   "cell_type": "code",
   "execution_count": null,
   "id": "pL3roXIm71m7",
   "metadata": {
    "colab": {
     "base_uri": "https://localhost:8080/"
    },
    "id": "pL3roXIm71m7",
    "outputId": "7cbebdef-be75-45f0-e3c2-3449be19097f"
   },
   "outputs": [
    {
     "name": "stdout",
     "output_type": "stream",
     "text": [
      "2.10.0\n"
     ]
    }
   ],
   "source": [
    "import h5py\n",
    "print(h5py.__version__)"
   ]
  },
  {
   "cell_type": "code",
   "execution_count": null,
   "id": "L9f94co7Fin0",
   "metadata": {
    "colab": {
     "base_uri": "https://localhost:8080/"
    },
    "id": "L9f94co7Fin0",
    "outputId": "127bf93c-f3a2-43c2-a82b-9fb00a83495a"
   },
   "outputs": [
    {
     "name": "stdout",
     "output_type": "stream",
     "text": [
      "Found existing installation: tensorflow 2.8.0\n",
      "Uninstalling tensorflow-2.8.0:\n",
      "  Successfully uninstalled tensorflow-2.8.0\n",
      "Collecting tensorflow==2.1.1\n",
      "  Downloading tensorflow-2.1.1-cp37-cp37m-manylinux2010_x86_64.whl (421.8 MB)\n",
      "\u001b[K     |████████████████████████████████| 421.8 MB 42 kB/s \n",
      "\u001b[?25hCollecting keras-preprocessing==1.1.0\n",
      "  Downloading Keras_Preprocessing-1.1.0-py2.py3-none-any.whl (41 kB)\n",
      "\u001b[K     |████████████████████████████████| 41 kB 597 kB/s \n",
      "\u001b[?25hRequirement already satisfied: google-pasta>=0.1.6 in /usr/local/lib/python3.7/dist-packages (from tensorflow==2.1.1) (0.2.0)\n",
      "Requirement already satisfied: grpcio>=1.8.6 in /usr/local/lib/python3.7/dist-packages (from tensorflow==2.1.1) (1.44.0)\n",
      "Requirement already satisfied: six>=1.12.0 in /usr/local/lib/python3.7/dist-packages (from tensorflow==2.1.1) (1.15.0)\n",
      "Requirement already satisfied: astor>=0.6.0 in /usr/local/lib/python3.7/dist-packages (from tensorflow==2.1.1) (0.8.1)\n",
      "Requirement already satisfied: opt-einsum>=2.3.2 in /usr/local/lib/python3.7/dist-packages (from tensorflow==2.1.1) (3.3.0)\n",
      "Collecting tensorflow-estimator<2.2.0,>=2.1.0rc0\n",
      "  Downloading tensorflow_estimator-2.1.0-py2.py3-none-any.whl (448 kB)\n",
      "\u001b[K     |████████████████████████████████| 448 kB 44.2 MB/s \n",
      "\u001b[?25hCollecting gast==0.2.2\n",
      "  Downloading gast-0.2.2.tar.gz (10 kB)\n",
      "Requirement already satisfied: absl-py>=0.7.0 in /usr/local/lib/python3.7/dist-packages (from tensorflow==2.1.1) (1.0.0)\n",
      "Collecting keras-applications>=1.0.8\n",
      "  Downloading Keras_Applications-1.0.8-py3-none-any.whl (50 kB)\n",
      "\u001b[K     |████████████████████████████████| 50 kB 6.1 MB/s \n",
      "\u001b[?25hCollecting tensorboard<2.2.0,>=2.1.0\n",
      "  Downloading tensorboard-2.1.1-py3-none-any.whl (3.8 MB)\n",
      "\u001b[K     |████████████████████████████████| 3.8 MB 34.1 MB/s \n",
      "\u001b[?25hRequirement already satisfied: protobuf>=3.8.0 in /usr/local/lib/python3.7/dist-packages (from tensorflow==2.1.1) (3.17.3)\n",
      "Requirement already satisfied: wheel>=0.26 in /usr/local/lib/python3.7/dist-packages (from tensorflow==2.1.1) (0.37.1)\n",
      "Requirement already satisfied: wrapt>=1.11.1 in /usr/local/lib/python3.7/dist-packages (from tensorflow==2.1.1) (1.14.0)\n",
      "Requirement already satisfied: numpy<2.0,>=1.16.0 in /usr/local/lib/python3.7/dist-packages (from tensorflow==2.1.1) (1.21.5)\n",
      "Requirement already satisfied: termcolor>=1.1.0 in /usr/local/lib/python3.7/dist-packages (from tensorflow==2.1.1) (1.1.0)\n",
      "Requirement already satisfied: scipy==1.4.1 in /usr/local/lib/python3.7/dist-packages (from tensorflow==2.1.1) (1.4.1)\n",
      "Requirement already satisfied: h5py in /usr/local/lib/python3.7/dist-packages (from keras-applications>=1.0.8->tensorflow==2.1.1) (2.10.0)\n",
      "Requirement already satisfied: setuptools>=41.0.0 in /usr/local/lib/python3.7/dist-packages (from tensorboard<2.2.0,>=2.1.0->tensorflow==2.1.1) (57.4.0)\n",
      "Requirement already satisfied: werkzeug>=0.11.15 in /usr/local/lib/python3.7/dist-packages (from tensorboard<2.2.0,>=2.1.0->tensorflow==2.1.1) (1.0.1)\n",
      "Requirement already satisfied: google-auth-oauthlib<0.5,>=0.4.1 in /usr/local/lib/python3.7/dist-packages (from tensorboard<2.2.0,>=2.1.0->tensorflow==2.1.1) (0.4.6)\n",
      "Requirement already satisfied: markdown>=2.6.8 in /usr/local/lib/python3.7/dist-packages (from tensorboard<2.2.0,>=2.1.0->tensorflow==2.1.1) (3.3.6)\n",
      "Requirement already satisfied: google-auth<2,>=1.6.3 in /usr/local/lib/python3.7/dist-packages (from tensorboard<2.2.0,>=2.1.0->tensorflow==2.1.1) (1.35.0)\n",
      "Requirement already satisfied: requests<3,>=2.21.0 in /usr/local/lib/python3.7/dist-packages (from tensorboard<2.2.0,>=2.1.0->tensorflow==2.1.1) (2.23.0)\n",
      "Requirement already satisfied: pyasn1-modules>=0.2.1 in /usr/local/lib/python3.7/dist-packages (from google-auth<2,>=1.6.3->tensorboard<2.2.0,>=2.1.0->tensorflow==2.1.1) (0.2.8)\n",
      "Requirement already satisfied: cachetools<5.0,>=2.0.0 in /usr/local/lib/python3.7/dist-packages (from google-auth<2,>=1.6.3->tensorboard<2.2.0,>=2.1.0->tensorflow==2.1.1) (4.2.4)\n",
      "Requirement already satisfied: rsa<5,>=3.1.4 in /usr/local/lib/python3.7/dist-packages (from google-auth<2,>=1.6.3->tensorboard<2.2.0,>=2.1.0->tensorflow==2.1.1) (4.8)\n",
      "Requirement already satisfied: requests-oauthlib>=0.7.0 in /usr/local/lib/python3.7/dist-packages (from google-auth-oauthlib<0.5,>=0.4.1->tensorboard<2.2.0,>=2.1.0->tensorflow==2.1.1) (1.3.1)\n",
      "Requirement already satisfied: importlib-metadata>=4.4 in /usr/local/lib/python3.7/dist-packages (from markdown>=2.6.8->tensorboard<2.2.0,>=2.1.0->tensorflow==2.1.1) (4.11.3)\n",
      "Requirement already satisfied: zipp>=0.5 in /usr/local/lib/python3.7/dist-packages (from importlib-metadata>=4.4->markdown>=2.6.8->tensorboard<2.2.0,>=2.1.0->tensorflow==2.1.1) (3.8.0)\n",
      "Requirement already satisfied: typing-extensions>=3.6.4 in /usr/local/lib/python3.7/dist-packages (from importlib-metadata>=4.4->markdown>=2.6.8->tensorboard<2.2.0,>=2.1.0->tensorflow==2.1.1) (4.1.1)\n",
      "Requirement already satisfied: pyasn1<0.5.0,>=0.4.6 in /usr/local/lib/python3.7/dist-packages (from pyasn1-modules>=0.2.1->google-auth<2,>=1.6.3->tensorboard<2.2.0,>=2.1.0->tensorflow==2.1.1) (0.4.8)\n",
      "Requirement already satisfied: chardet<4,>=3.0.2 in /usr/local/lib/python3.7/dist-packages (from requests<3,>=2.21.0->tensorboard<2.2.0,>=2.1.0->tensorflow==2.1.1) (3.0.4)\n",
      "Requirement already satisfied: urllib3!=1.25.0,!=1.25.1,<1.26,>=1.21.1 in /usr/local/lib/python3.7/dist-packages (from requests<3,>=2.21.0->tensorboard<2.2.0,>=2.1.0->tensorflow==2.1.1) (1.24.3)\n",
      "Requirement already satisfied: idna<3,>=2.5 in /usr/local/lib/python3.7/dist-packages (from requests<3,>=2.21.0->tensorboard<2.2.0,>=2.1.0->tensorflow==2.1.1) (2.10)\n",
      "Requirement already satisfied: certifi>=2017.4.17 in /usr/local/lib/python3.7/dist-packages (from requests<3,>=2.21.0->tensorboard<2.2.0,>=2.1.0->tensorflow==2.1.1) (2021.10.8)\n",
      "Requirement already satisfied: oauthlib>=3.0.0 in /usr/local/lib/python3.7/dist-packages (from requests-oauthlib>=0.7.0->google-auth-oauthlib<0.5,>=0.4.1->tensorboard<2.2.0,>=2.1.0->tensorflow==2.1.1) (3.2.0)\n",
      "Building wheels for collected packages: gast\n",
      "  Building wheel for gast (setup.py) ... \u001b[?25l\u001b[?25hdone\n",
      "  Created wheel for gast: filename=gast-0.2.2-py3-none-any.whl size=7554 sha256=c5aaa555c405c605512d4237e5b9b983657925ab97c5e6cd3f0964870895c171\n",
      "  Stored in directory: /root/.cache/pip/wheels/21/7f/02/420f32a803f7d0967b48dd823da3f558c5166991bfd204eef3\n",
      "Successfully built gast\n",
      "Installing collected packages: tensorflow-estimator, tensorboard, keras-preprocessing, keras-applications, gast, tensorflow\n",
      "  Attempting uninstall: tensorflow-estimator\n",
      "    Found existing installation: tensorflow-estimator 2.8.0\n",
      "    Uninstalling tensorflow-estimator-2.8.0:\n",
      "      Successfully uninstalled tensorflow-estimator-2.8.0\n",
      "  Attempting uninstall: tensorboard\n",
      "    Found existing installation: tensorboard 2.8.0\n",
      "    Uninstalling tensorboard-2.8.0:\n",
      "      Successfully uninstalled tensorboard-2.8.0\n",
      "  Attempting uninstall: keras-preprocessing\n",
      "    Found existing installation: Keras-Preprocessing 1.1.2\n",
      "    Uninstalling Keras-Preprocessing-1.1.2:\n",
      "      Successfully uninstalled Keras-Preprocessing-1.1.2\n",
      "  Attempting uninstall: gast\n",
      "    Found existing installation: gast 0.5.3\n",
      "    Uninstalling gast-0.5.3:\n",
      "      Successfully uninstalled gast-0.5.3\n",
      "\u001b[31mERROR: pip's dependency resolver does not currently take into account all the packages that are installed. This behaviour is the source of the following dependency conflicts.\n",
      "tensorflow-probability 0.16.0 requires gast>=0.3.2, but you have gast 0.2.2 which is incompatible.\u001b[0m\n",
      "Successfully installed gast-0.2.2 keras-applications-1.0.8 keras-preprocessing-1.1.0 tensorboard-2.1.1 tensorflow-2.1.1 tensorflow-estimator-2.1.0\n"
     ]
    }
   ],
   "source": [
    "!pip uninstall tensorflow -y\n",
    "!pip install  tensorflow==2.1.1"
   ]
  },
  {
   "cell_type": "code",
   "execution_count": null,
   "id": "Wis1x9FVEvqj",
   "metadata": {
    "colab": {
     "base_uri": "https://localhost:8080/"
    },
    "id": "Wis1x9FVEvqj",
    "outputId": "7b0e47f2-a7ef-4427-fcf1-ae2d12964030"
   },
   "outputs": [
    {
     "name": "stdout",
     "output_type": "stream",
     "text": [
      "`%tensorflow_version` only switches the major version: 1.x or 2.x.\n",
      "You set: `2.1.1`. This will be interpreted as: `2.x`.\n",
      "\n",
      "\n",
      "TensorFlow 2.x selected.\n",
      "2.1.1\n"
     ]
    }
   ],
   "source": [
    "%tensorflow_version 2.1.1\n",
    "import tensorflow as tf\n",
    "print(tf.__version__)\n"
   ]
  },
  {
   "cell_type": "code",
   "execution_count": null,
   "id": "45fd757e",
   "metadata": {
    "id": "45fd757e"
   },
   "outputs": [],
   "source": [
    "import os\n",
    "\n",
    "import numpy as np\n",
    "import seaborn as sns\n",
    "import pandas as pd\n",
    "import matplotlib.pyplot as plot\n",
    "#import keras_tuner as kt\n",
    "\n",
    "from numpy import array, hstack, argmax\n",
    "\n",
    "from pandas import DataFrame\n",
    "\n",
    "from tensorflow.keras.models import Sequential\n",
    "from tensorflow.keras.layers import LSTM,BatchNormalization, Dense, RepeatVector, TimeDistributed, Dropout, Input, Conv1D\n",
    "\n",
    "from sklearn.preprocessing import MinMaxScaler\n",
    "from sklearn.model_selection import train_test_split\n",
    "from sklearn.metrics import confusion_matrix, classification_report"
   ]
  },
  {
   "cell_type": "code",
   "execution_count": null,
   "id": "092bc6d5",
   "metadata": {
    "id": "092bc6d5"
   },
   "outputs": [],
   "source": [
    "dataframe = pd.read_csv(\"/content/drive/MyDrive/weatherHistory.csv\")\n",
    "\n",
    "dataframe[[\"Date-Time\",\"TZ\"]]=dataframe[\"Date\"].str.split(\"+\",expand=True)\n",
    "\n",
    "dataframe = dataframe.drop(columns=[\"Date\",\"Loud Cover\", \"Precip Type\", \"Daily Summary\", \"TZ\", \"Apparent Temperature (C)\", \"Wind Speed (km/h)\", \"Wind Bearing (degrees)\", \"Visibility (km)\", \"Pressure (millibars)\"])"
   ]
  },
  {
   "cell_type": "code",
   "execution_count": null,
   "id": "92a0503b",
   "metadata": {
    "colab": {
     "base_uri": "https://localhost:8080/",
     "height": 424
    },
    "id": "92a0503b",
    "outputId": "07affe25-5e82-49bd-a6f6-9318a2ba058a"
   },
   "outputs": [
    {
     "data": {
      "text/html": [
       "\n",
       "  <div id=\"df-0c8b2322-b51f-4736-b24c-d4dd84dd6048\">\n",
       "    <div class=\"colab-df-container\">\n",
       "      <div>\n",
       "<style scoped>\n",
       "    .dataframe tbody tr th:only-of-type {\n",
       "        vertical-align: middle;\n",
       "    }\n",
       "\n",
       "    .dataframe tbody tr th {\n",
       "        vertical-align: top;\n",
       "    }\n",
       "\n",
       "    .dataframe thead th {\n",
       "        text-align: right;\n",
       "    }\n",
       "</style>\n",
       "<table border=\"1\" class=\"dataframe\">\n",
       "  <thead>\n",
       "    <tr style=\"text-align: right;\">\n",
       "      <th></th>\n",
       "      <th>Summary</th>\n",
       "      <th>Temperature (C)</th>\n",
       "      <th>Humidity</th>\n",
       "      <th>Date-Time</th>\n",
       "    </tr>\n",
       "  </thead>\n",
       "  <tbody>\n",
       "    <tr>\n",
       "      <th>0</th>\n",
       "      <td>Partly Cloudy</td>\n",
       "      <td>9.472222</td>\n",
       "      <td>0.89</td>\n",
       "      <td>2006-04-01 00:00:00.000</td>\n",
       "    </tr>\n",
       "    <tr>\n",
       "      <th>1</th>\n",
       "      <td>Partly Cloudy</td>\n",
       "      <td>9.355556</td>\n",
       "      <td>0.86</td>\n",
       "      <td>2006-04-01 01:00:00.000</td>\n",
       "    </tr>\n",
       "    <tr>\n",
       "      <th>2</th>\n",
       "      <td>Mostly Cloudy</td>\n",
       "      <td>9.377778</td>\n",
       "      <td>0.89</td>\n",
       "      <td>2006-04-01 02:00:00.000</td>\n",
       "    </tr>\n",
       "    <tr>\n",
       "      <th>3</th>\n",
       "      <td>Partly Cloudy</td>\n",
       "      <td>8.288889</td>\n",
       "      <td>0.83</td>\n",
       "      <td>2006-04-01 03:00:00.000</td>\n",
       "    </tr>\n",
       "    <tr>\n",
       "      <th>4</th>\n",
       "      <td>Mostly Cloudy</td>\n",
       "      <td>8.755556</td>\n",
       "      <td>0.83</td>\n",
       "      <td>2006-04-01 04:00:00.000</td>\n",
       "    </tr>\n",
       "    <tr>\n",
       "      <th>...</th>\n",
       "      <td>...</td>\n",
       "      <td>...</td>\n",
       "      <td>...</td>\n",
       "      <td>...</td>\n",
       "    </tr>\n",
       "    <tr>\n",
       "      <th>96448</th>\n",
       "      <td>Partly Cloudy</td>\n",
       "      <td>26.016667</td>\n",
       "      <td>0.43</td>\n",
       "      <td>2016-09-09 19:00:00.000</td>\n",
       "    </tr>\n",
       "    <tr>\n",
       "      <th>96449</th>\n",
       "      <td>Partly Cloudy</td>\n",
       "      <td>24.583333</td>\n",
       "      <td>0.48</td>\n",
       "      <td>2016-09-09 20:00:00.000</td>\n",
       "    </tr>\n",
       "    <tr>\n",
       "      <th>96450</th>\n",
       "      <td>Partly Cloudy</td>\n",
       "      <td>22.038889</td>\n",
       "      <td>0.56</td>\n",
       "      <td>2016-09-09 21:00:00.000</td>\n",
       "    </tr>\n",
       "    <tr>\n",
       "      <th>96451</th>\n",
       "      <td>Partly Cloudy</td>\n",
       "      <td>21.522222</td>\n",
       "      <td>0.60</td>\n",
       "      <td>2016-09-09 22:00:00.000</td>\n",
       "    </tr>\n",
       "    <tr>\n",
       "      <th>96452</th>\n",
       "      <td>Partly Cloudy</td>\n",
       "      <td>20.438889</td>\n",
       "      <td>0.61</td>\n",
       "      <td>2016-09-09 23:00:00.000</td>\n",
       "    </tr>\n",
       "  </tbody>\n",
       "</table>\n",
       "<p>96453 rows × 4 columns</p>\n",
       "</div>\n",
       "      <button class=\"colab-df-convert\" onclick=\"convertToInteractive('df-0c8b2322-b51f-4736-b24c-d4dd84dd6048')\"\n",
       "              title=\"Convert this dataframe to an interactive table.\"\n",
       "              style=\"display:none;\">\n",
       "        \n",
       "  <svg xmlns=\"http://www.w3.org/2000/svg\" height=\"24px\"viewBox=\"0 0 24 24\"\n",
       "       width=\"24px\">\n",
       "    <path d=\"M0 0h24v24H0V0z\" fill=\"none\"/>\n",
       "    <path d=\"M18.56 5.44l.94 2.06.94-2.06 2.06-.94-2.06-.94-.94-2.06-.94 2.06-2.06.94zm-11 1L8.5 8.5l.94-2.06 2.06-.94-2.06-.94L8.5 2.5l-.94 2.06-2.06.94zm10 10l.94 2.06.94-2.06 2.06-.94-2.06-.94-.94-2.06-.94 2.06-2.06.94z\"/><path d=\"M17.41 7.96l-1.37-1.37c-.4-.4-.92-.59-1.43-.59-.52 0-1.04.2-1.43.59L10.3 9.45l-7.72 7.72c-.78.78-.78 2.05 0 2.83L4 21.41c.39.39.9.59 1.41.59.51 0 1.02-.2 1.41-.59l7.78-7.78 2.81-2.81c.8-.78.8-2.07 0-2.86zM5.41 20L4 18.59l7.72-7.72 1.47 1.35L5.41 20z\"/>\n",
       "  </svg>\n",
       "      </button>\n",
       "      \n",
       "  <style>\n",
       "    .colab-df-container {\n",
       "      display:flex;\n",
       "      flex-wrap:wrap;\n",
       "      gap: 12px;\n",
       "    }\n",
       "\n",
       "    .colab-df-convert {\n",
       "      background-color: #E8F0FE;\n",
       "      border: none;\n",
       "      border-radius: 50%;\n",
       "      cursor: pointer;\n",
       "      display: none;\n",
       "      fill: #1967D2;\n",
       "      height: 32px;\n",
       "      padding: 0 0 0 0;\n",
       "      width: 32px;\n",
       "    }\n",
       "\n",
       "    .colab-df-convert:hover {\n",
       "      background-color: #E2EBFA;\n",
       "      box-shadow: 0px 1px 2px rgba(60, 64, 67, 0.3), 0px 1px 3px 1px rgba(60, 64, 67, 0.15);\n",
       "      fill: #174EA6;\n",
       "    }\n",
       "\n",
       "    [theme=dark] .colab-df-convert {\n",
       "      background-color: #3B4455;\n",
       "      fill: #D2E3FC;\n",
       "    }\n",
       "\n",
       "    [theme=dark] .colab-df-convert:hover {\n",
       "      background-color: #434B5C;\n",
       "      box-shadow: 0px 1px 3px 1px rgba(0, 0, 0, 0.15);\n",
       "      filter: drop-shadow(0px 1px 2px rgba(0, 0, 0, 0.3));\n",
       "      fill: #FFFFFF;\n",
       "    }\n",
       "  </style>\n",
       "\n",
       "      <script>\n",
       "        const buttonEl =\n",
       "          document.querySelector('#df-0c8b2322-b51f-4736-b24c-d4dd84dd6048 button.colab-df-convert');\n",
       "        buttonEl.style.display =\n",
       "          google.colab.kernel.accessAllowed ? 'block' : 'none';\n",
       "\n",
       "        async function convertToInteractive(key) {\n",
       "          const element = document.querySelector('#df-0c8b2322-b51f-4736-b24c-d4dd84dd6048');\n",
       "          const dataTable =\n",
       "            await google.colab.kernel.invokeFunction('convertToInteractive',\n",
       "                                                     [key], {});\n",
       "          if (!dataTable) return;\n",
       "\n",
       "          const docLinkHtml = 'Like what you see? Visit the ' +\n",
       "            '<a target=\"_blank\" href=https://colab.research.google.com/notebooks/data_table.ipynb>data table notebook</a>'\n",
       "            + ' to learn more about interactive tables.';\n",
       "          element.innerHTML = '';\n",
       "          dataTable['output_type'] = 'display_data';\n",
       "          await google.colab.output.renderOutput(dataTable, element);\n",
       "          const docLink = document.createElement('div');\n",
       "          docLink.innerHTML = docLinkHtml;\n",
       "          element.appendChild(docLink);\n",
       "        }\n",
       "      </script>\n",
       "    </div>\n",
       "  </div>\n",
       "  "
      ],
      "text/plain": [
       "             Summary  Temperature (C)  Humidity                 Date-Time\n",
       "0      Partly Cloudy         9.472222      0.89  2006-04-01 00:00:00.000 \n",
       "1      Partly Cloudy         9.355556      0.86  2006-04-01 01:00:00.000 \n",
       "2      Mostly Cloudy         9.377778      0.89  2006-04-01 02:00:00.000 \n",
       "3      Partly Cloudy         8.288889      0.83  2006-04-01 03:00:00.000 \n",
       "4      Mostly Cloudy         8.755556      0.83  2006-04-01 04:00:00.000 \n",
       "...              ...              ...       ...                       ...\n",
       "96448  Partly Cloudy        26.016667      0.43  2016-09-09 19:00:00.000 \n",
       "96449  Partly Cloudy        24.583333      0.48  2016-09-09 20:00:00.000 \n",
       "96450  Partly Cloudy        22.038889      0.56  2016-09-09 21:00:00.000 \n",
       "96451  Partly Cloudy        21.522222      0.60  2016-09-09 22:00:00.000 \n",
       "96452  Partly Cloudy        20.438889      0.61  2016-09-09 23:00:00.000 \n",
       "\n",
       "[96453 rows x 4 columns]"
      ]
     },
     "execution_count": 9,
     "metadata": {},
     "output_type": "execute_result"
    }
   ],
   "source": [
    "dataframe"
   ]
  },
  {
   "cell_type": "code",
   "execution_count": null,
   "id": "67cf3887",
   "metadata": {
    "colab": {
     "base_uri": "https://localhost:8080/",
     "height": 386
    },
    "id": "67cf3887",
    "outputId": "78023558-1931-42e7-d674-559230adc721",
    "scrolled": true
   },
   "outputs": [
    {
     "data": {
      "image/png": "[encoded data removed]",
      "text/plain": [
       "<Figure size 1584x1584 with 18 Axes>"
      ]
     },
     "metadata": {},
     "output_type": "display_data"
    }
   ],
   "source": [
    "# Plot the time series\n",
    "plot.style.use('fivethirtyeight')\n",
    "dataframe.plot(subplots=True,\n",
    "        layout=(6, 3),\n",
    "        figsize=(22,22),\n",
    "        fontsize=10, \n",
    "        linewidth=2,\n",
    "        sharex=False,\n",
    "        title='Visualization of the original Time Series')\n",
    "plot.show()"
   ]
  },
  {
   "cell_type": "code",
   "execution_count": null,
   "id": "db5b7203",
   "metadata": {
    "colab": {
     "base_uri": "https://localhost:8080/",
     "height": 516
    },
    "id": "db5b7203",
    "outputId": "ff4e39e9-90ff-42cb-cf06-c4dbf93adcc7"
   },
   "outputs": [
    {
     "data": {
      "image/png": "[encoded data removed]",
      "text/plain": [
       "<Figure size 1152x576 with 2 Axes>"
      ]
     },
     "metadata": {},
     "output_type": "display_data"
    }
   ],
   "source": [
    "# Let's also draw a heatmap visualization of the correlation matrix\n",
    "correlation_matrix = dataframe.corr(method='spearman')\n",
    "f, ax = plot.subplots(figsize=(16,8))\n",
    "sns.heatmap(correlation_matrix, annot=True, fmt='.2f', linewidth=0.4,\n",
    "            annot_kws={\"size\": 10}, cmap='coolwarm', ax=ax)\n",
    "plot.xticks(fontsize=10)\n",
    "plot.yticks(fontsize=10)\n",
    "plot.show()"
   ]
  },
  {
   "cell_type": "code",
   "execution_count": null,
   "id": "f7cbb8d2",
   "metadata": {
    "colab": {
     "base_uri": "https://localhost:8080/",
     "height": 424
    },
    "id": "f7cbb8d2",
    "outputId": "0ee1d1f0-fbed-4878-8d7e-9485d363cc04"
   },
   "outputs": [
    {
     "data": {
      "text/html": [
       "\n",
       "  <div id=\"df-c28e07fb-4624-4316-872f-d0d98f079e9c\">\n",
       "    <div class=\"colab-df-container\">\n",
       "      <div>\n",
       "<style scoped>\n",
       "    .dataframe tbody tr th:only-of-type {\n",
       "        vertical-align: middle;\n",
       "    }\n",
       "\n",
       "    .dataframe tbody tr th {\n",
       "        vertical-align: top;\n",
       "    }\n",
       "\n",
       "    .dataframe thead th {\n",
       "        text-align: right;\n",
       "    }\n",
       "</style>\n",
       "<table border=\"1\" class=\"dataframe\">\n",
       "  <thead>\n",
       "    <tr style=\"text-align: right;\">\n",
       "      <th></th>\n",
       "      <th>Date-Time</th>\n",
       "      <th>Summary</th>\n",
       "      <th>Temperature (C)</th>\n",
       "      <th>Humidity</th>\n",
       "    </tr>\n",
       "  </thead>\n",
       "  <tbody>\n",
       "    <tr>\n",
       "      <th>0</th>\n",
       "      <td>2006-04-01 00:00:00.000</td>\n",
       "      <td>Partly Cloudy</td>\n",
       "      <td>9.472222</td>\n",
       "      <td>0.89</td>\n",
       "    </tr>\n",
       "    <tr>\n",
       "      <th>1</th>\n",
       "      <td>2006-04-01 01:00:00.000</td>\n",
       "      <td>Partly Cloudy</td>\n",
       "      <td>9.355556</td>\n",
       "      <td>0.86</td>\n",
       "    </tr>\n",
       "    <tr>\n",
       "      <th>2</th>\n",
       "      <td>2006-04-01 02:00:00.000</td>\n",
       "      <td>Mostly Cloudy</td>\n",
       "      <td>9.377778</td>\n",
       "      <td>0.89</td>\n",
       "    </tr>\n",
       "    <tr>\n",
       "      <th>3</th>\n",
       "      <td>2006-04-01 03:00:00.000</td>\n",
       "      <td>Partly Cloudy</td>\n",
       "      <td>8.288889</td>\n",
       "      <td>0.83</td>\n",
       "    </tr>\n",
       "    <tr>\n",
       "      <th>4</th>\n",
       "      <td>2006-04-01 04:00:00.000</td>\n",
       "      <td>Mostly Cloudy</td>\n",
       "      <td>8.755556</td>\n",
       "      <td>0.83</td>\n",
       "    </tr>\n",
       "    <tr>\n",
       "      <th>...</th>\n",
       "      <td>...</td>\n",
       "      <td>...</td>\n",
       "      <td>...</td>\n",
       "      <td>...</td>\n",
       "    </tr>\n",
       "    <tr>\n",
       "      <th>96448</th>\n",
       "      <td>2016-09-09 19:00:00.000</td>\n",
       "      <td>Partly Cloudy</td>\n",
       "      <td>26.016667</td>\n",
       "      <td>0.43</td>\n",
       "    </tr>\n",
       "    <tr>\n",
       "      <th>96449</th>\n",
       "      <td>2016-09-09 20:00:00.000</td>\n",
       "      <td>Partly Cloudy</td>\n",
       "      <td>24.583333</td>\n",
       "      <td>0.48</td>\n",
       "    </tr>\n",
       "    <tr>\n",
       "      <th>96450</th>\n",
       "      <td>2016-09-09 21:00:00.000</td>\n",
       "      <td>Partly Cloudy</td>\n",
       "      <td>22.038889</td>\n",
       "      <td>0.56</td>\n",
       "    </tr>\n",
       "    <tr>\n",
       "      <th>96451</th>\n",
       "      <td>2016-09-09 22:00:00.000</td>\n",
       "      <td>Partly Cloudy</td>\n",
       "      <td>21.522222</td>\n",
       "      <td>0.60</td>\n",
       "    </tr>\n",
       "    <tr>\n",
       "      <th>96452</th>\n",
       "      <td>2016-09-09 23:00:00.000</td>\n",
       "      <td>Partly Cloudy</td>\n",
       "      <td>20.438889</td>\n",
       "      <td>0.61</td>\n",
       "    </tr>\n",
       "  </tbody>\n",
       "</table>\n",
       "<p>96453 rows × 4 columns</p>\n",
       "</div>\n",
       "      <button class=\"colab-df-convert\" onclick=\"convertToInteractive('df-c28e07fb-4624-4316-872f-d0d98f079e9c')\"\n",
       "              title=\"Convert this dataframe to an interactive table.\"\n",
       "              style=\"display:none;\">\n",
       "        \n",
       "  <svg xmlns=\"http://www.w3.org/2000/svg\" height=\"24px\"viewBox=\"0 0 24 24\"\n",
       "       width=\"24px\">\n",
       "    <path d=\"M0 0h24v24H0V0z\" fill=\"none\"/>\n",
       "    <path d=\"M18.56 5.44l.94 2.06.94-2.06 2.06-.94-2.06-.94-.94-2.06-.94 2.06-2.06.94zm-11 1L8.5 8.5l.94-2.06 2.06-.94-2.06-.94L8.5 2.5l-.94 2.06-2.06.94zm10 10l.94 2.06.94-2.06 2.06-.94-2.06-.94-.94-2.06-.94 2.06-2.06.94z\"/><path d=\"M17.41 7.96l-1.37-1.37c-.4-.4-.92-.59-1.43-.59-.52 0-1.04.2-1.43.59L10.3 9.45l-7.72 7.72c-.78.78-.78 2.05 0 2.83L4 21.41c.39.39.9.59 1.41.59.51 0 1.02-.2 1.41-.59l7.78-7.78 2.81-2.81c.8-.78.8-2.07 0-2.86zM5.41 20L4 18.59l7.72-7.72 1.47 1.35L5.41 20z\"/>\n",
       "  </svg>\n",
       "      </button>\n",
       "      \n",
       "  <style>\n",
       "    .colab-df-container {\n",
       "      display:flex;\n",
       "      flex-wrap:wrap;\n",
       "      gap: 12px;\n",
       "    }\n",
       "\n",
       "    .colab-df-convert {\n",
       "      background-color: #E8F0FE;\n",
       "      border: none;\n",
       "      border-radius: 50%;\n",
       "      cursor: pointer;\n",
       "      display: none;\n",
       "      fill: #1967D2;\n",
       "      height: 32px;\n",
       "      padding: 0 0 0 0;\n",
       "      width: 32px;\n",
       "    }\n",
       "\n",
       "    .colab-df-convert:hover {\n",
       "      background-color: #E2EBFA;\n",
       "      box-shadow: 0px 1px 2px rgba(60, 64, 67, 0.3), 0px 1px 3px 1px rgba(60, 64, 67, 0.15);\n",
       "      fill: #174EA6;\n",
       "    }\n",
       "\n",
       "    [theme=dark] .colab-df-convert {\n",
       "      background-color: #3B4455;\n",
       "      fill: #D2E3FC;\n",
       "    }\n",
       "\n",
       "    [theme=dark] .colab-df-convert:hover {\n",
       "      background-color: #434B5C;\n",
       "      box-shadow: 0px 1px 3px 1px rgba(0, 0, 0, 0.15);\n",
       "      filter: drop-shadow(0px 1px 2px rgba(0, 0, 0, 0.3));\n",
       "      fill: #FFFFFF;\n",
       "    }\n",
       "  </style>\n",
       "\n",
       "      <script>\n",
       "        const buttonEl =\n",
       "          document.querySelector('#df-c28e07fb-4624-4316-872f-d0d98f079e9c button.colab-df-convert');\n",
       "        buttonEl.style.display =\n",
       "          google.colab.kernel.accessAllowed ? 'block' : 'none';\n",
       "\n",
       "        async function convertToInteractive(key) {\n",
       "          const element = document.querySelector('#df-c28e07fb-4624-4316-872f-d0d98f079e9c');\n",
       "          const dataTable =\n",
       "            await google.colab.kernel.invokeFunction('convertToInteractive',\n",
       "                                                     [key], {});\n",
       "          if (!dataTable) return;\n",
       "\n",
       "          const docLinkHtml = 'Like what you see? Visit the ' +\n",
       "            '<a target=\"_blank\" href=https://colab.research.google.com/notebooks/data_table.ipynb>data table notebook</a>'\n",
       "            + ' to learn more about interactive tables.';\n",
       "          element.innerHTML = '';\n",
       "          dataTable['output_type'] = 'display_data';\n",
       "          await google.colab.output.renderOutput(dataTable, element);\n",
       "          const docLink = document.createElement('div');\n",
       "          docLink.innerHTML = docLinkHtml;\n",
       "          element.appendChild(docLink);\n",
       "        }\n",
       "      </script>\n",
       "    </div>\n",
       "  </div>\n",
       "  "
      ],
      "text/plain": [
       "                      Date-Time        Summary  Temperature (C)  Humidity\n",
       "0      2006-04-01 00:00:00.000   Partly Cloudy         9.472222      0.89\n",
       "1      2006-04-01 01:00:00.000   Partly Cloudy         9.355556      0.86\n",
       "2      2006-04-01 02:00:00.000   Mostly Cloudy         9.377778      0.89\n",
       "3      2006-04-01 03:00:00.000   Partly Cloudy         8.288889      0.83\n",
       "4      2006-04-01 04:00:00.000   Mostly Cloudy         8.755556      0.83\n",
       "...                         ...            ...              ...       ...\n",
       "96448  2016-09-09 19:00:00.000   Partly Cloudy        26.016667      0.43\n",
       "96449  2016-09-09 20:00:00.000   Partly Cloudy        24.583333      0.48\n",
       "96450  2016-09-09 21:00:00.000   Partly Cloudy        22.038889      0.56\n",
       "96451  2016-09-09 22:00:00.000   Partly Cloudy        21.522222      0.60\n",
       "96452  2016-09-09 23:00:00.000   Partly Cloudy        20.438889      0.61\n",
       "\n",
       "[96453 rows x 4 columns]"
      ]
     },
     "execution_count": 12,
     "metadata": {},
     "output_type": "execute_result"
    }
   ],
   "source": [
    "# Organized the columns\n",
    "sorted_columns = [\"Date-Time\",\"Summary\", \"Temperature (C)\", \"Humidity\"]\n",
    "dataframe = dataframe.reindex(columns = sorted_columns)\n",
    "dataframe"
   ]
  },
  {
   "cell_type": "code",
   "execution_count": null,
   "id": "023070ef",
   "metadata": {
    "colab": {
     "base_uri": "https://localhost:8080/"
    },
    "id": "023070ef",
    "outputId": "2954b86d-d136-4384-c2ac-7037251f60c2"
   },
   "outputs": [
    {
     "data": {
      "text/plain": [
       "Partly Cloudy                          31733\n",
       "Mostly Cloudy                          28094\n",
       "Overcast                               16597\n",
       "Clear                                  10890\n",
       "Foggy                                   7148\n",
       "Breezy and Overcast                      528\n",
       "Breezy and Mostly Cloudy                 516\n",
       "Breezy and Partly Cloudy                 386\n",
       "Dry and Partly Cloudy                     86\n",
       "Windy and Partly Cloudy                   67\n",
       "Light Rain                                63\n",
       "Breezy                                    54\n",
       "Windy and Overcast                        45\n",
       "Humid and Mostly Cloudy                   40\n",
       "Drizzle                                   39\n",
       "Breezy and Foggy                          35\n",
       "Windy and Mostly Cloudy                   35\n",
       "Dry                                       34\n",
       "Humid and Partly Cloudy                   17\n",
       "Dry and Mostly Cloudy                     14\n",
       "Rain                                      10\n",
       "Windy                                      8\n",
       "Humid and Overcast                         7\n",
       "Windy and Foggy                            4\n",
       "Windy and Dry                              1\n",
       "Dangerously Windy and Partly Cloudy        1\n",
       "Breezy and Dry                             1\n",
       "Name: Summary, dtype: int64"
      ]
     },
     "execution_count": 13,
     "metadata": {},
     "output_type": "execute_result"
    }
   ],
   "source": [
    "dataframe.Summary.value_counts()"
   ]
  },
  {
   "cell_type": "code",
   "execution_count": null,
   "id": "bfe49a0a",
   "metadata": {
    "colab": {
     "base_uri": "https://localhost:8080/",
     "height": 378
    },
    "id": "bfe49a0a",
    "outputId": "9c3c7d98-824f-4ae3-c96d-929244055791"
   },
   "outputs": [
    {
     "name": "stderr",
     "output_type": "stream",
     "text": [
      "/usr/local/lib/python3.7/dist-packages/seaborn/_decorators.py:43: FutureWarning: Pass the following variable as a keyword arg: x. From version 0.12, the only valid positional argument will be `data`, and passing other arguments without an explicit keyword will result in an error or misinterpretation.\n",
      "  FutureWarning\n"
     ]
    },
    {
     "data": {
      "text/plain": [
       "<matplotlib.axes._subplots.AxesSubplot at 0x7fa6ddc31310>"
      ]
     },
     "execution_count": 14,
     "metadata": {},
     "output_type": "execute_result"
    },
    {
     "data": {
      "image/png": "[encoded data removed]",
      "text/plain": [
       "<Figure size 432x288 with 1 Axes>"
      ]
     },
     "metadata": {},
     "output_type": "display_data"
    }
   ],
   "source": [
    "sns.countplot(dataframe[\"Summary\"])"
   ]
  },
  {
   "cell_type": "code",
   "execution_count": null,
   "id": "b22d0ad7",
   "metadata": {
    "colab": {
     "base_uri": "https://localhost:8080/"
    },
    "id": "b22d0ad7",
    "outputId": "45d28dcb-8f65-4adb-c7eb-bf2e25dfa4dd",
    "scrolled": true
   },
   "outputs": [
    {
     "name": "stdout",
     "output_type": "stream",
     "text": [
      "Dry\n",
      "Dry\n",
      "Dry\n",
      "Dry\n",
      "Dry\n",
      "Dry\n",
      "Dry\n",
      "Dry\n",
      "Dry\n",
      "Dry\n",
      "Dry\n",
      "Dry\n",
      "Dry\n",
      "Dry\n",
      "Dry\n",
      "Dry\n",
      "Dry\n",
      "Dry\n",
      "Dry\n",
      "Dry\n",
      "Dry\n",
      "Dry\n",
      "Dry\n",
      "Dry\n",
      "Dry\n",
      "Dry\n",
      "Dry\n",
      "Dry\n",
      "Dry\n",
      "Dry\n",
      "Dry\n",
      "Dry\n",
      "Dry\n",
      "Dry\n",
      "                      Date-Time Summary  Temperature (C)  Humidity\n",
      "0      2006-04-01 00:00:00.000   cloudy         9.472222      0.89\n",
      "1      2006-04-01 01:00:00.000   cloudy         9.355556      0.86\n",
      "2      2006-04-01 02:00:00.000   cloudy         9.377778      0.89\n",
      "3      2006-04-01 03:00:00.000   cloudy         8.288889      0.83\n",
      "4      2006-04-01 04:00:00.000   cloudy         8.755556      0.83\n",
      "...                         ...     ...              ...       ...\n",
      "96448  2016-09-09 19:00:00.000   cloudy        26.016667      0.43\n",
      "96449  2016-09-09 20:00:00.000   cloudy        24.583333      0.48\n",
      "96450  2016-09-09 21:00:00.000   cloudy        22.038889      0.56\n",
      "96451  2016-09-09 22:00:00.000   cloudy        21.522222      0.60\n",
      "96452  2016-09-09 23:00:00.000   cloudy        20.438889      0.61\n",
      "\n",
      "[96453 rows x 4 columns]\n",
      "Different weather types counts: \n",
      " cloudy    60989\n",
      "rainy     17289\n",
      "sunny     10954\n",
      "foggy      7187\n",
      "Name: Summary, dtype: int64\n",
      "Dataframe after indexed_2:\n",
      "                       Date-Time Summary  Temperature (C)  Humidity\n",
      "0      2006-04-01 00:00:00.000   cloudy         9.472222      0.89\n",
      "1      2006-04-01 01:00:00.000   cloudy         9.355556      0.86\n",
      "2      2006-04-01 02:00:00.000   cloudy         9.377778      0.89\n",
      "3      2006-04-01 03:00:00.000   cloudy         8.288889      0.83\n",
      "4      2006-04-01 04:00:00.000   cloudy         8.755556      0.83\n",
      "...                         ...     ...              ...       ...\n",
      "96448  2016-09-09 19:00:00.000   cloudy        26.016667      0.43\n",
      "96449  2016-09-09 20:00:00.000   cloudy        24.583333      0.48\n",
      "96450  2016-09-09 21:00:00.000   cloudy        22.038889      0.56\n",
      "96451  2016-09-09 22:00:00.000   cloudy        21.522222      0.60\n",
      "96452  2016-09-09 23:00:00.000   cloudy        20.438889      0.61\n",
      "\n",
      "[89537 rows x 4 columns]\n",
      "Different weather types counts after indexed_2: \n",
      " cloudy    60989\n",
      "sunny     10954\n",
      "rainy     10373\n",
      "foggy      7187\n",
      "Name: Summary, dtype: int64\n",
      "Dataframe after indexed:\n",
      "                       Date-Time Summary  Temperature (C)  Humidity\n",
      "9      2006-04-01 09:00:00.000   cloudy        13.772222      0.72\n",
      "16     2006-04-01 16:00:00.000   cloudy        15.388889      0.60\n",
      "21     2006-04-01 21:00:00.000   cloudy        11.183333      0.76\n",
      "28     2006-04-10 04:00:00.000   cloudy         6.111111      0.82\n",
      "47     2006-04-10 23:00:00.000    rainy        14.255556      0.59\n",
      "...                         ...     ...              ...       ...\n",
      "96434  2016-09-09 05:00:00.000    sunny        15.016667      0.90\n",
      "96435  2016-09-09 06:00:00.000    sunny        13.872222      0.93\n",
      "96436  2016-09-09 07:00:00.000    sunny        16.072222      0.88\n",
      "96437  2016-09-09 08:00:00.000   cloudy        19.561111      0.75\n",
      "96449  2016-09-09 20:00:00.000   cloudy        24.583333      0.48\n",
      "\n",
      "[39526 rows x 4 columns]\n",
      "Different weather types counts after indexed: \n",
      " cloudy    10978\n",
      "sunny     10954\n",
      "rainy     10373\n",
      "foggy      7187\n",
      "Name: Summary, dtype: int64\n",
      "Categories: ['cloudy' 'rainy' 'foggy' 'sunny' None]\n"
     ]
    }
   ],
   "source": [
    "simplified_weather_types = {\"cloudy\":[\"Partly Cloudy\", \"Mostly Cloudy\",\"Breezy and Mostly Cloudy\",\"Breezy and Partly Cloudy\", \"Humid and Mostly Cloudy\",\"Humid and Partly Cloudy\",\n",
    "                           \"Windy and Partly Cloudy\",\"Dry and Partly Cloudy\",\"Windy and Mostly Cloudy\",\"Dangerously Windy and Partly Cloudy\",\"Dry and Mostly Cloudy\"\n",
    "                           ],\n",
    "                 \"rainy\":[\"Rain\", \"Drizzle\", \"Light Rain\", \"Breezy and Overcast\", \"Overcast\", \"Windy and Overcast\", \"Humid and Overcast\"],\n",
    "                 \"sunny\":[\"Clear\", \"Windy and Dry\", \"Breezy and Dry\", \"Breezy\", \"Windy\"],\n",
    "                 \"foggy\":[\"Breezy and Foggy\", \"Windy and Foggy\", \"Windy and Foggy\", \"Foggy\"]}\n",
    "\n",
    "# There are more than 4 labels for summary so simplify it down into Cloudy,rainy,sunny, and foggy. \n",
    "def replace(content):\n",
    "  for weather_categories in simplified_weather_types.keys():\n",
    "    for weather in simplified_weather_types[weather_categories]:\n",
    "      if content == weather:      \n",
    "        return weather_categories\n",
    "  print(content)\n",
    "\n",
    "dataframe[\"Summary\"] = dataframe[\"Summary\"].map(replace)\n",
    "print(dataframe)\n",
    "\n",
    "print(\"Different weather types counts: \\n\",dataframe.Summary.value_counts())\n",
    "\n",
    "dataframe_indexed_2 = dataframe[dataframe.Summary == \"rainy\"].sample(frac=0.4, random_state=42).index\n",
    "dataframe = dataframe.drop(dataframe_indexed_2)\n",
    "\n",
    "print(\"Dataframe after indexed_2:\\n\", dataframe)\n",
    "print(\"Different weather types counts after indexed_2: \\n\", dataframe.Summary.value_counts())\n",
    "\n",
    "dataframe_indexed_1 = dataframe[dataframe.Summary == \"cloudy\"].sample(frac=0.82, random_state=42).index\n",
    "dataframe = dataframe.drop(dataframe_indexed_1)\n",
    "\n",
    "print(\"Dataframe after indexed:\\n\", dataframe)\n",
    "print(\"Different weather types counts after indexed: \\n\", dataframe.Summary.value_counts())\n",
    "\n",
    "\n",
    "labels = dataframe[\"Summary\"].unique()\n",
    "print(\"Categories:\", labels)"
   ]
  },
  {
   "cell_type": "code",
   "execution_count": null,
   "id": "f15ebdbd",
   "metadata": {
    "colab": {
     "base_uri": "https://localhost:8080/"
    },
    "id": "f15ebdbd",
    "outputId": "0cc63c02-906b-46d0-832f-2f368b127c66"
   },
   "outputs": [
    {
     "name": "stdout",
     "output_type": "stream",
     "text": [
      "                      Date-Time  Temperature (C)  Humidity  Summary_cloudy  \\\n",
      "9      2006-04-01 09:00:00.000         13.772222      0.72               1   \n",
      "16     2006-04-01 16:00:00.000         15.388889      0.60               1   \n",
      "21     2006-04-01 21:00:00.000         11.183333      0.76               1   \n",
      "28     2006-04-10 04:00:00.000          6.111111      0.82               1   \n",
      "47     2006-04-10 23:00:00.000         14.255556      0.59               0   \n",
      "...                         ...              ...       ...             ...   \n",
      "96434  2016-09-09 05:00:00.000         15.016667      0.90               0   \n",
      "96435  2016-09-09 06:00:00.000         13.872222      0.93               0   \n",
      "96436  2016-09-09 07:00:00.000         16.072222      0.88               0   \n",
      "96437  2016-09-09 08:00:00.000         19.561111      0.75               1   \n",
      "96449  2016-09-09 20:00:00.000         24.583333      0.48               1   \n",
      "\n",
      "       Summary_foggy  Summary_rainy  Summary_sunny  \n",
      "9                  0              0              0  \n",
      "16                 0              0              0  \n",
      "21                 0              0              0  \n",
      "28                 0              0              0  \n",
      "47                 0              1              0  \n",
      "...              ...            ...            ...  \n",
      "96434              0              0              1  \n",
      "96435              0              0              1  \n",
      "96436              0              0              1  \n",
      "96437              0              0              0  \n",
      "96449              0              0              0  \n",
      "\n",
      "[39526 rows x 7 columns]\n",
      "(39526, 7)\n"
     ]
    }
   ],
   "source": [
    "\n",
    "labels_dataframe = pd.get_dummies(dataframe, columns=[\"Summary\"])\n",
    "\n",
    "print(labels_dataframe)\n",
    "print(labels_dataframe.shape)"
   ]
  },
  {
   "cell_type": "code",
   "execution_count": null,
   "id": "2030371f",
   "metadata": {
    "colab": {
     "base_uri": "https://localhost:8080/",
     "height": 455
    },
    "id": "2030371f",
    "outputId": "b4dad179-bac0-492c-e982-d718deb6fdb4"
   },
   "outputs": [
    {
     "data": {
      "text/html": [
       "\n",
       "  <div id=\"df-56a2ad66-6f80-4dd4-bdf8-8d41c4112156\">\n",
       "    <div class=\"colab-df-container\">\n",
       "      <div>\n",
       "<style scoped>\n",
       "    .dataframe tbody tr th:only-of-type {\n",
       "        vertical-align: middle;\n",
       "    }\n",
       "\n",
       "    .dataframe tbody tr th {\n",
       "        vertical-align: top;\n",
       "    }\n",
       "\n",
       "    .dataframe thead th {\n",
       "        text-align: right;\n",
       "    }\n",
       "</style>\n",
       "<table border=\"1\" class=\"dataframe\">\n",
       "  <thead>\n",
       "    <tr style=\"text-align: right;\">\n",
       "      <th></th>\n",
       "      <th>Temperature (C)</th>\n",
       "      <th>Humidity</th>\n",
       "      <th>Summary_cloudy</th>\n",
       "      <th>Summary_foggy</th>\n",
       "      <th>Summary_rainy</th>\n",
       "      <th>Summary_sunny</th>\n",
       "    </tr>\n",
       "    <tr>\n",
       "      <th>Date-Time</th>\n",
       "      <th></th>\n",
       "      <th></th>\n",
       "      <th></th>\n",
       "      <th></th>\n",
       "      <th></th>\n",
       "      <th></th>\n",
       "    </tr>\n",
       "  </thead>\n",
       "  <tbody>\n",
       "    <tr>\n",
       "      <th>2006-04-01 09:00:00</th>\n",
       "      <td>13.772222</td>\n",
       "      <td>0.72</td>\n",
       "      <td>1</td>\n",
       "      <td>0</td>\n",
       "      <td>0</td>\n",
       "      <td>0</td>\n",
       "    </tr>\n",
       "    <tr>\n",
       "      <th>2006-04-01 16:00:00</th>\n",
       "      <td>15.388889</td>\n",
       "      <td>0.60</td>\n",
       "      <td>1</td>\n",
       "      <td>0</td>\n",
       "      <td>0</td>\n",
       "      <td>0</td>\n",
       "    </tr>\n",
       "    <tr>\n",
       "      <th>2006-04-01 21:00:00</th>\n",
       "      <td>11.183333</td>\n",
       "      <td>0.76</td>\n",
       "      <td>1</td>\n",
       "      <td>0</td>\n",
       "      <td>0</td>\n",
       "      <td>0</td>\n",
       "    </tr>\n",
       "    <tr>\n",
       "      <th>2006-04-10 04:00:00</th>\n",
       "      <td>6.111111</td>\n",
       "      <td>0.82</td>\n",
       "      <td>1</td>\n",
       "      <td>0</td>\n",
       "      <td>0</td>\n",
       "      <td>0</td>\n",
       "    </tr>\n",
       "    <tr>\n",
       "      <th>2006-04-10 23:00:00</th>\n",
       "      <td>14.255556</td>\n",
       "      <td>0.59</td>\n",
       "      <td>0</td>\n",
       "      <td>0</td>\n",
       "      <td>1</td>\n",
       "      <td>0</td>\n",
       "    </tr>\n",
       "    <tr>\n",
       "      <th>...</th>\n",
       "      <td>...</td>\n",
       "      <td>...</td>\n",
       "      <td>...</td>\n",
       "      <td>...</td>\n",
       "      <td>...</td>\n",
       "      <td>...</td>\n",
       "    </tr>\n",
       "    <tr>\n",
       "      <th>2016-09-09 05:00:00</th>\n",
       "      <td>15.016667</td>\n",
       "      <td>0.90</td>\n",
       "      <td>0</td>\n",
       "      <td>0</td>\n",
       "      <td>0</td>\n",
       "      <td>1</td>\n",
       "    </tr>\n",
       "    <tr>\n",
       "      <th>2016-09-09 06:00:00</th>\n",
       "      <td>13.872222</td>\n",
       "      <td>0.93</td>\n",
       "      <td>0</td>\n",
       "      <td>0</td>\n",
       "      <td>0</td>\n",
       "      <td>1</td>\n",
       "    </tr>\n",
       "    <tr>\n",
       "      <th>2016-09-09 07:00:00</th>\n",
       "      <td>16.072222</td>\n",
       "      <td>0.88</td>\n",
       "      <td>0</td>\n",
       "      <td>0</td>\n",
       "      <td>0</td>\n",
       "      <td>1</td>\n",
       "    </tr>\n",
       "    <tr>\n",
       "      <th>2016-09-09 08:00:00</th>\n",
       "      <td>19.561111</td>\n",
       "      <td>0.75</td>\n",
       "      <td>1</td>\n",
       "      <td>0</td>\n",
       "      <td>0</td>\n",
       "      <td>0</td>\n",
       "    </tr>\n",
       "    <tr>\n",
       "      <th>2016-09-09 20:00:00</th>\n",
       "      <td>24.583333</td>\n",
       "      <td>0.48</td>\n",
       "      <td>1</td>\n",
       "      <td>0</td>\n",
       "      <td>0</td>\n",
       "      <td>0</td>\n",
       "    </tr>\n",
       "  </tbody>\n",
       "</table>\n",
       "<p>39526 rows × 6 columns</p>\n",
       "</div>\n",
       "      <button class=\"colab-df-convert\" onclick=\"convertToInteractive('df-56a2ad66-6f80-4dd4-bdf8-8d41c4112156')\"\n",
       "              title=\"Convert this dataframe to an interactive table.\"\n",
       "              style=\"display:none;\">\n",
       "        \n",
       "  <svg xmlns=\"http://www.w3.org/2000/svg\" height=\"24px\"viewBox=\"0 0 24 24\"\n",
       "       width=\"24px\">\n",
       "    <path d=\"M0 0h24v24H0V0z\" fill=\"none\"/>\n",
       "    <path d=\"M18.56 5.44l.94 2.06.94-2.06 2.06-.94-2.06-.94-.94-2.06-.94 2.06-2.06.94zm-11 1L8.5 8.5l.94-2.06 2.06-.94-2.06-.94L8.5 2.5l-.94 2.06-2.06.94zm10 10l.94 2.06.94-2.06 2.06-.94-2.06-.94-.94-2.06-.94 2.06-2.06.94z\"/><path d=\"M17.41 7.96l-1.37-1.37c-.4-.4-.92-.59-1.43-.59-.52 0-1.04.2-1.43.59L10.3 9.45l-7.72 7.72c-.78.78-.78 2.05 0 2.83L4 21.41c.39.39.9.59 1.41.59.51 0 1.02-.2 1.41-.59l7.78-7.78 2.81-2.81c.8-.78.8-2.07 0-2.86zM5.41 20L4 18.59l7.72-7.72 1.47 1.35L5.41 20z\"/>\n",
       "  </svg>\n",
       "      </button>\n",
       "      \n",
       "  <style>\n",
       "    .colab-df-container {\n",
       "      display:flex;\n",
       "      flex-wrap:wrap;\n",
       "      gap: 12px;\n",
       "    }\n",
       "\n",
       "    .colab-df-convert {\n",
       "      background-color: #E8F0FE;\n",
       "      border: none;\n",
       "      border-radius: 50%;\n",
       "      cursor: pointer;\n",
       "      display: none;\n",
       "      fill: #1967D2;\n",
       "      height: 32px;\n",
       "      padding: 0 0 0 0;\n",
       "      width: 32px;\n",
       "    }\n",
       "\n",
       "    .colab-df-convert:hover {\n",
       "      background-color: #E2EBFA;\n",
       "      box-shadow: 0px 1px 2px rgba(60, 64, 67, 0.3), 0px 1px 3px 1px rgba(60, 64, 67, 0.15);\n",
       "      fill: #174EA6;\n",
       "    }\n",
       "\n",
       "    [theme=dark] .colab-df-convert {\n",
       "      background-color: #3B4455;\n",
       "      fill: #D2E3FC;\n",
       "    }\n",
       "\n",
       "    [theme=dark] .colab-df-convert:hover {\n",
       "      background-color: #434B5C;\n",
       "      box-shadow: 0px 1px 3px 1px rgba(0, 0, 0, 0.15);\n",
       "      filter: drop-shadow(0px 1px 2px rgba(0, 0, 0, 0.3));\n",
       "      fill: #FFFFFF;\n",
       "    }\n",
       "  </style>\n",
       "\n",
       "      <script>\n",
       "        const buttonEl =\n",
       "          document.querySelector('#df-56a2ad66-6f80-4dd4-bdf8-8d41c4112156 button.colab-df-convert');\n",
       "        buttonEl.style.display =\n",
       "          google.colab.kernel.accessAllowed ? 'block' : 'none';\n",
       "\n",
       "        async function convertToInteractive(key) {\n",
       "          const element = document.querySelector('#df-56a2ad66-6f80-4dd4-bdf8-8d41c4112156');\n",
       "          const dataTable =\n",
       "            await google.colab.kernel.invokeFunction('convertToInteractive',\n",
       "                                                     [key], {});\n",
       "          if (!dataTable) return;\n",
       "\n",
       "          const docLinkHtml = 'Like what you see? Visit the ' +\n",
       "            '<a target=\"_blank\" href=https://colab.research.google.com/notebooks/data_table.ipynb>data table notebook</a>'\n",
       "            + ' to learn more about interactive tables.';\n",
       "          element.innerHTML = '';\n",
       "          dataTable['output_type'] = 'display_data';\n",
       "          await google.colab.output.renderOutput(dataTable, element);\n",
       "          const docLink = document.createElement('div');\n",
       "          docLink.innerHTML = docLinkHtml;\n",
       "          element.appendChild(docLink);\n",
       "        }\n",
       "      </script>\n",
       "    </div>\n",
       "  </div>\n",
       "  "
      ],
      "text/plain": [
       "                     Temperature (C)  Humidity  Summary_cloudy  Summary_foggy  \\\n",
       "Date-Time                                                                       \n",
       "2006-04-01 09:00:00        13.772222      0.72               1              0   \n",
       "2006-04-01 16:00:00        15.388889      0.60               1              0   \n",
       "2006-04-01 21:00:00        11.183333      0.76               1              0   \n",
       "2006-04-10 04:00:00         6.111111      0.82               1              0   \n",
       "2006-04-10 23:00:00        14.255556      0.59               0              0   \n",
       "...                              ...       ...             ...            ...   \n",
       "2016-09-09 05:00:00        15.016667      0.90               0              0   \n",
       "2016-09-09 06:00:00        13.872222      0.93               0              0   \n",
       "2016-09-09 07:00:00        16.072222      0.88               0              0   \n",
       "2016-09-09 08:00:00        19.561111      0.75               1              0   \n",
       "2016-09-09 20:00:00        24.583333      0.48               1              0   \n",
       "\n",
       "                     Summary_rainy  Summary_sunny  \n",
       "Date-Time                                          \n",
       "2006-04-01 09:00:00              0              0  \n",
       "2006-04-01 16:00:00              0              0  \n",
       "2006-04-01 21:00:00              0              0  \n",
       "2006-04-10 04:00:00              0              0  \n",
       "2006-04-10 23:00:00              1              0  \n",
       "...                            ...            ...  \n",
       "2016-09-09 05:00:00              0              1  \n",
       "2016-09-09 06:00:00              0              1  \n",
       "2016-09-09 07:00:00              0              1  \n",
       "2016-09-09 08:00:00              0              0  \n",
       "2016-09-09 20:00:00              0              0  \n",
       "\n",
       "[39526 rows x 6 columns]"
      ]
     },
     "execution_count": 17,
     "metadata": {},
     "output_type": "execute_result"
    }
   ],
   "source": [
    "# Indexing the dataframe\n",
    "dataframe = labels_dataframe.set_index(\"Date-Time\")\n",
    "dataframe.index = pd.to_datetime(dataframe.index)\n",
    "dataframe"
   ]
  },
  {
   "cell_type": "code",
   "execution_count": null,
   "id": "ec1c02d1",
   "metadata": {
    "colab": {
     "base_uri": "https://localhost:8080/"
    },
    "id": "ec1c02d1",
    "outputId": "018e397a-6a45-4e77-884a-67153446641c"
   },
   "outputs": [
    {
     "name": "stdout",
     "output_type": "stream",
     "text": [
      "                     Temperature (C)  Humidity\n",
      "Date-Time                                     \n",
      "2006-04-01 09:00:00        13.772222      0.72\n",
      "2006-04-01 16:00:00        15.388889      0.60\n",
      "2006-04-01 21:00:00        11.183333      0.76\n",
      "2006-04-10 04:00:00         6.111111      0.82\n",
      "2006-04-10 23:00:00        14.255556      0.59\n",
      "...                              ...       ...\n",
      "2016-09-09 05:00:00        15.016667      0.90\n",
      "2016-09-09 06:00:00        13.872222      0.93\n",
      "2016-09-09 07:00:00        16.072222      0.88\n",
      "2016-09-09 08:00:00        19.561111      0.75\n",
      "2016-09-09 20:00:00        24.583333      0.48\n",
      "\n",
      "[39526 rows x 2 columns]\n",
      "                     Summary_cloudy  Summary_foggy  Summary_rainy  \\\n",
      "Date-Time                                                           \n",
      "2006-04-01 09:00:00               1              0              0   \n",
      "2006-04-01 16:00:00               1              0              0   \n",
      "2006-04-01 21:00:00               1              0              0   \n",
      "2006-04-10 04:00:00               1              0              0   \n",
      "2006-04-10 23:00:00               0              0              1   \n",
      "...                             ...            ...            ...   \n",
      "2016-09-09 05:00:00               0              0              0   \n",
      "2016-09-09 06:00:00               0              0              0   \n",
      "2016-09-09 07:00:00               0              0              0   \n",
      "2016-09-09 08:00:00               1              0              0   \n",
      "2016-09-09 20:00:00               1              0              0   \n",
      "\n",
      "                     Summary_sunny  \n",
      "Date-Time                           \n",
      "2006-04-01 09:00:00              0  \n",
      "2006-04-01 16:00:00              0  \n",
      "2006-04-01 21:00:00              0  \n",
      "2006-04-10 04:00:00              0  \n",
      "2006-04-10 23:00:00              0  \n",
      "...                            ...  \n",
      "2016-09-09 05:00:00              1  \n",
      "2016-09-09 06:00:00              1  \n",
      "2016-09-09 07:00:00              1  \n",
      "2016-09-09 08:00:00              0  \n",
      "2016-09-09 20:00:00              0  \n",
      "\n",
      "[39526 rows x 4 columns]\n"
     ]
    }
   ],
   "source": [
    "dataframe_features = dataframe.iloc[:,:2]\n",
    "dataframe_labels = dataframe.iloc[:,2:6]\n",
    "print(dataframe_features)\n",
    "print(dataframe_labels)"
   ]
  },
  {
   "cell_type": "code",
   "execution_count": null,
   "id": "d5da1f3b",
   "metadata": {
    "colab": {
     "base_uri": "https://localhost:8080/",
     "height": 424
    },
    "id": "d5da1f3b",
    "outputId": "0facb464-3699-4167-b784-b3d8ea0e55cc"
   },
   "outputs": [
    {
     "data": {
      "text/html": [
       "\n",
       "  <div id=\"df-7f21f138-7afd-4d95-8605-fcc6f4365914\">\n",
       "    <div class=\"colab-df-container\">\n",
       "      <div>\n",
       "<style scoped>\n",
       "    .dataframe tbody tr th:only-of-type {\n",
       "        vertical-align: middle;\n",
       "    }\n",
       "\n",
       "    .dataframe tbody tr th {\n",
       "        vertical-align: top;\n",
       "    }\n",
       "\n",
       "    .dataframe thead th {\n",
       "        text-align: right;\n",
       "    }\n",
       "</style>\n",
       "<table border=\"1\" class=\"dataframe\">\n",
       "  <thead>\n",
       "    <tr style=\"text-align: right;\">\n",
       "      <th></th>\n",
       "      <th>Temperature (C)</th>\n",
       "      <th>Humidity</th>\n",
       "    </tr>\n",
       "  </thead>\n",
       "  <tbody>\n",
       "    <tr>\n",
       "      <th>0</th>\n",
       "      <td>0.576636</td>\n",
       "      <td>0.72</td>\n",
       "    </tr>\n",
       "    <tr>\n",
       "      <th>1</th>\n",
       "      <td>0.602826</td>\n",
       "      <td>0.60</td>\n",
       "    </tr>\n",
       "    <tr>\n",
       "      <th>2</th>\n",
       "      <td>0.534695</td>\n",
       "      <td>0.76</td>\n",
       "    </tr>\n",
       "    <tr>\n",
       "      <th>3</th>\n",
       "      <td>0.452525</td>\n",
       "      <td>0.82</td>\n",
       "    </tr>\n",
       "    <tr>\n",
       "      <th>4</th>\n",
       "      <td>0.584466</td>\n",
       "      <td>0.59</td>\n",
       "    </tr>\n",
       "    <tr>\n",
       "      <th>...</th>\n",
       "      <td>...</td>\n",
       "      <td>...</td>\n",
       "    </tr>\n",
       "    <tr>\n",
       "      <th>39521</th>\n",
       "      <td>0.596796</td>\n",
       "      <td>0.90</td>\n",
       "    </tr>\n",
       "    <tr>\n",
       "      <th>39522</th>\n",
       "      <td>0.578256</td>\n",
       "      <td>0.93</td>\n",
       "    </tr>\n",
       "    <tr>\n",
       "      <th>39523</th>\n",
       "      <td>0.613896</td>\n",
       "      <td>0.88</td>\n",
       "    </tr>\n",
       "    <tr>\n",
       "      <th>39524</th>\n",
       "      <td>0.670417</td>\n",
       "      <td>0.75</td>\n",
       "    </tr>\n",
       "    <tr>\n",
       "      <th>39525</th>\n",
       "      <td>0.751778</td>\n",
       "      <td>0.48</td>\n",
       "    </tr>\n",
       "  </tbody>\n",
       "</table>\n",
       "<p>39526 rows × 2 columns</p>\n",
       "</div>\n",
       "      <button class=\"colab-df-convert\" onclick=\"convertToInteractive('df-7f21f138-7afd-4d95-8605-fcc6f4365914')\"\n",
       "              title=\"Convert this dataframe to an interactive table.\"\n",
       "              style=\"display:none;\">\n",
       "        \n",
       "  <svg xmlns=\"http://www.w3.org/2000/svg\" height=\"24px\"viewBox=\"0 0 24 24\"\n",
       "       width=\"24px\">\n",
       "    <path d=\"M0 0h24v24H0V0z\" fill=\"none\"/>\n",
       "    <path d=\"M18.56 5.44l.94 2.06.94-2.06 2.06-.94-2.06-.94-.94-2.06-.94 2.06-2.06.94zm-11 1L8.5 8.5l.94-2.06 2.06-.94-2.06-.94L8.5 2.5l-.94 2.06-2.06.94zm10 10l.94 2.06.94-2.06 2.06-.94-2.06-.94-.94-2.06-.94 2.06-2.06.94z\"/><path d=\"M17.41 7.96l-1.37-1.37c-.4-.4-.92-.59-1.43-.59-.52 0-1.04.2-1.43.59L10.3 9.45l-7.72 7.72c-.78.78-.78 2.05 0 2.83L4 21.41c.39.39.9.59 1.41.59.51 0 1.02-.2 1.41-.59l7.78-7.78 2.81-2.81c.8-.78.8-2.07 0-2.86zM5.41 20L4 18.59l7.72-7.72 1.47 1.35L5.41 20z\"/>\n",
       "  </svg>\n",
       "      </button>\n",
       "      \n",
       "  <style>\n",
       "    .colab-df-container {\n",
       "      display:flex;\n",
       "      flex-wrap:wrap;\n",
       "      gap: 12px;\n",
       "    }\n",
       "\n",
       "    .colab-df-convert {\n",
       "      background-color: #E8F0FE;\n",
       "      border: none;\n",
       "      border-radius: 50%;\n",
       "      cursor: pointer;\n",
       "      display: none;\n",
       "      fill: #1967D2;\n",
       "      height: 32px;\n",
       "      padding: 0 0 0 0;\n",
       "      width: 32px;\n",
       "    }\n",
       "\n",
       "    .colab-df-convert:hover {\n",
       "      background-color: #E2EBFA;\n",
       "      box-shadow: 0px 1px 2px rgba(60, 64, 67, 0.3), 0px 1px 3px 1px rgba(60, 64, 67, 0.15);\n",
       "      fill: #174EA6;\n",
       "    }\n",
       "\n",
       "    [theme=dark] .colab-df-convert {\n",
       "      background-color: #3B4455;\n",
       "      fill: #D2E3FC;\n",
       "    }\n",
       "\n",
       "    [theme=dark] .colab-df-convert:hover {\n",
       "      background-color: #434B5C;\n",
       "      box-shadow: 0px 1px 3px 1px rgba(0, 0, 0, 0.15);\n",
       "      filter: drop-shadow(0px 1px 2px rgba(0, 0, 0, 0.3));\n",
       "      fill: #FFFFFF;\n",
       "    }\n",
       "  </style>\n",
       "\n",
       "      <script>\n",
       "        const buttonEl =\n",
       "          document.querySelector('#df-7f21f138-7afd-4d95-8605-fcc6f4365914 button.colab-df-convert');\n",
       "        buttonEl.style.display =\n",
       "          google.colab.kernel.accessAllowed ? 'block' : 'none';\n",
       "\n",
       "        async function convertToInteractive(key) {\n",
       "          const element = document.querySelector('#df-7f21f138-7afd-4d95-8605-fcc6f4365914');\n",
       "          const dataTable =\n",
       "            await google.colab.kernel.invokeFunction('convertToInteractive',\n",
       "                                                     [key], {});\n",
       "          if (!dataTable) return;\n",
       "\n",
       "          const docLinkHtml = 'Like what you see? Visit the ' +\n",
       "            '<a target=\"_blank\" href=https://colab.research.google.com/notebooks/data_table.ipynb>data table notebook</a>'\n",
       "            + ' to learn more about interactive tables.';\n",
       "          element.innerHTML = '';\n",
       "          dataTable['output_type'] = 'display_data';\n",
       "          await google.colab.output.renderOutput(dataTable, element);\n",
       "          const docLink = document.createElement('div');\n",
       "          docLink.innerHTML = docLinkHtml;\n",
       "          element.appendChild(docLink);\n",
       "        }\n",
       "      </script>\n",
       "    </div>\n",
       "  </div>\n",
       "  "
      ],
      "text/plain": [
       "       Temperature (C)  Humidity\n",
       "0             0.576636      0.72\n",
       "1             0.602826      0.60\n",
       "2             0.534695      0.76\n",
       "3             0.452525      0.82\n",
       "4             0.584466      0.59\n",
       "...                ...       ...\n",
       "39521         0.596796      0.90\n",
       "39522         0.578256      0.93\n",
       "39523         0.613896      0.88\n",
       "39524         0.670417      0.75\n",
       "39525         0.751778      0.48\n",
       "\n",
       "[39526 rows x 2 columns]"
      ]
     },
     "execution_count": 19,
     "metadata": {},
     "output_type": "execute_result"
    }
   ],
   "source": [
    "# Feature scaling the temperature columns to prevent gradient vanishing / exploding\n",
    "scaler = MinMaxScaler(feature_range=(0, 1))\n",
    "dataframe_features = scaler.fit_transform(dataframe_features)\n",
    "dataframe_features = pd.DataFrame(dataframe_features, columns=[\"Temperature (C)\", \"Humidity\"])\n",
    "dataframe_features"
   ]
  },
  {
   "cell_type": "code",
   "execution_count": null,
   "id": "b0a5dc57",
   "metadata": {
    "colab": {
     "base_uri": "https://localhost:8080/"
    },
    "id": "b0a5dc57",
    "outputId": "51d71ed1-b132-4b76-b66f-0605448758fd"
   },
   "outputs": [
    {
     "name": "stdout",
     "output_type": "stream",
     "text": [
      "Temperature (C)    False\n",
      "Humidity           False\n",
      "Summary_cloudy     False\n",
      "Summary_foggy      False\n",
      "Summary_rainy      False\n",
      "Summary_sunny      False\n",
      "dtype: bool\n"
     ]
    }
   ],
   "source": [
    "# Check if there are any missing vlaues \n",
    "sum_array = np.sum(dataframe)\n",
    "array_nan = np.isnan(sum_array)\n",
    "print(array_nan)"
   ]
  },
  {
   "cell_type": "code",
   "execution_count": null,
   "id": "17802bb8",
   "metadata": {
    "id": "17802bb8"
   },
   "outputs": [],
   "source": [
    "# Constants Hyperparameters\n",
    "STEPS_IN_N = 1 #  supposed to be 2\n",
    "STEPS_OUT_N = 1\n",
    "EPOCHS = 100\n",
    "N_FEATURES = 2 #  temp, hum, apparent temp, pressure, wind speed\n",
    "N_NEURONS = 16 #  original: 256\n",
    "N_LABELS = 4\n",
    "PATIENCE = 20"
   ]
  },
  {
   "cell_type": "code",
   "execution_count": null,
   "id": "753e2ce8",
   "metadata": {
    "colab": {
     "base_uri": "https://localhost:8080/"
    },
    "id": "753e2ce8",
    "outputId": "e459ed4a-e622-47c4-fb3c-4752a0c5bda3"
   },
   "outputs": [
    {
     "name": "stdout",
     "output_type": "stream",
     "text": [
      "(33597, 2) (5929, 2) (33597, 4) (5929, 4)\n"
     ]
    }
   ],
   "source": [
    "#x_train, x_test, y_train, y_test = split_sequence(dataframe_stacked, STEPS_IN_N, STEPS_OUT_N)\n",
    "\n",
    "x_train, x_test, y_train, y_test = train_test_split(dataframe_features, dataframe_labels, test_size = 0.15, shuffle=True, random_state=42)\n",
    "\n",
    "print(x_train.shape, x_test.shape, y_train.shape, y_test.shape)"
   ]
  },
  {
   "cell_type": "code",
   "execution_count": null,
   "id": "f3636369",
   "metadata": {
    "colab": {
     "base_uri": "https://localhost:8080/",
     "height": 424
    },
    "id": "f3636369",
    "outputId": "04b092a7-8fb9-462f-eea7-f890bac12514"
   },
   "outputs": [
    {
     "data": {
      "text/html": [
       "\n",
       "  <div id=\"df-98283dd2-7eeb-4a71-9301-4c621e2ed941\">\n",
       "    <div class=\"colab-df-container\">\n",
       "      <div>\n",
       "<style scoped>\n",
       "    .dataframe tbody tr th:only-of-type {\n",
       "        vertical-align: middle;\n",
       "    }\n",
       "\n",
       "    .dataframe tbody tr th {\n",
       "        vertical-align: top;\n",
       "    }\n",
       "\n",
       "    .dataframe thead th {\n",
       "        text-align: right;\n",
       "    }\n",
       "</style>\n",
       "<table border=\"1\" class=\"dataframe\">\n",
       "  <thead>\n",
       "    <tr style=\"text-align: right;\">\n",
       "      <th></th>\n",
       "      <th>Temperature (C)</th>\n",
       "      <th>Humidity</th>\n",
       "    </tr>\n",
       "  </thead>\n",
       "  <tbody>\n",
       "    <tr>\n",
       "      <th>23921</th>\n",
       "      <td>0.371524</td>\n",
       "      <td>0.96</td>\n",
       "    </tr>\n",
       "    <tr>\n",
       "      <th>32274</th>\n",
       "      <td>0.542615</td>\n",
       "      <td>0.93</td>\n",
       "    </tr>\n",
       "    <tr>\n",
       "      <th>33172</th>\n",
       "      <td>0.677977</td>\n",
       "      <td>0.90</td>\n",
       "    </tr>\n",
       "    <tr>\n",
       "      <th>38832</th>\n",
       "      <td>0.441634</td>\n",
       "      <td>0.81</td>\n",
       "    </tr>\n",
       "    <tr>\n",
       "      <th>36289</th>\n",
       "      <td>0.497525</td>\n",
       "      <td>1.00</td>\n",
       "    </tr>\n",
       "    <tr>\n",
       "      <th>...</th>\n",
       "      <td>...</td>\n",
       "      <td>...</td>\n",
       "    </tr>\n",
       "    <tr>\n",
       "      <th>6265</th>\n",
       "      <td>0.394834</td>\n",
       "      <td>0.86</td>\n",
       "    </tr>\n",
       "    <tr>\n",
       "      <th>11284</th>\n",
       "      <td>0.639816</td>\n",
       "      <td>0.52</td>\n",
       "    </tr>\n",
       "    <tr>\n",
       "      <th>38158</th>\n",
       "      <td>0.638556</td>\n",
       "      <td>0.97</td>\n",
       "    </tr>\n",
       "    <tr>\n",
       "      <th>860</th>\n",
       "      <td>0.265053</td>\n",
       "      <td>0.77</td>\n",
       "    </tr>\n",
       "    <tr>\n",
       "      <th>15795</th>\n",
       "      <td>0.309963</td>\n",
       "      <td>0.83</td>\n",
       "    </tr>\n",
       "  </tbody>\n",
       "</table>\n",
       "<p>33597 rows × 2 columns</p>\n",
       "</div>\n",
       "      <button class=\"colab-df-convert\" onclick=\"convertToInteractive('df-98283dd2-7eeb-4a71-9301-4c621e2ed941')\"\n",
       "              title=\"Convert this dataframe to an interactive table.\"\n",
       "              style=\"display:none;\">\n",
       "        \n",
       "  <svg xmlns=\"http://www.w3.org/2000/svg\" height=\"24px\"viewBox=\"0 0 24 24\"\n",
       "       width=\"24px\">\n",
       "    <path d=\"M0 0h24v24H0V0z\" fill=\"none\"/>\n",
       "    <path d=\"M18.56 5.44l.94 2.06.94-2.06 2.06-.94-2.06-.94-.94-2.06-.94 2.06-2.06.94zm-11 1L8.5 8.5l.94-2.06 2.06-.94-2.06-.94L8.5 2.5l-.94 2.06-2.06.94zm10 10l.94 2.06.94-2.06 2.06-.94-2.06-.94-.94-2.06-.94 2.06-2.06.94z\"/><path d=\"M17.41 7.96l-1.37-1.37c-.4-.4-.92-.59-1.43-.59-.52 0-1.04.2-1.43.59L10.3 9.45l-7.72 7.72c-.78.78-.78 2.05 0 2.83L4 21.41c.39.39.9.59 1.41.59.51 0 1.02-.2 1.41-.59l7.78-7.78 2.81-2.81c.8-.78.8-2.07 0-2.86zM5.41 20L4 18.59l7.72-7.72 1.47 1.35L5.41 20z\"/>\n",
       "  </svg>\n",
       "      </button>\n",
       "      \n",
       "  <style>\n",
       "    .colab-df-container {\n",
       "      display:flex;\n",
       "      flex-wrap:wrap;\n",
       "      gap: 12px;\n",
       "    }\n",
       "\n",
       "    .colab-df-convert {\n",
       "      background-color: #E8F0FE;\n",
       "      border: none;\n",
       "      border-radius: 50%;\n",
       "      cursor: pointer;\n",
       "      display: none;\n",
       "      fill: #1967D2;\n",
       "      height: 32px;\n",
       "      padding: 0 0 0 0;\n",
       "      width: 32px;\n",
       "    }\n",
       "\n",
       "    .colab-df-convert:hover {\n",
       "      background-color: #E2EBFA;\n",
       "      box-shadow: 0px 1px 2px rgba(60, 64, 67, 0.3), 0px 1px 3px 1px rgba(60, 64, 67, 0.15);\n",
       "      fill: #174EA6;\n",
       "    }\n",
       "\n",
       "    [theme=dark] .colab-df-convert {\n",
       "      background-color: #3B4455;\n",
       "      fill: #D2E3FC;\n",
       "    }\n",
       "\n",
       "    [theme=dark] .colab-df-convert:hover {\n",
       "      background-color: #434B5C;\n",
       "      box-shadow: 0px 1px 3px 1px rgba(0, 0, 0, 0.15);\n",
       "      filter: drop-shadow(0px 1px 2px rgba(0, 0, 0, 0.3));\n",
       "      fill: #FFFFFF;\n",
       "    }\n",
       "  </style>\n",
       "\n",
       "      <script>\n",
       "        const buttonEl =\n",
       "          document.querySelector('#df-98283dd2-7eeb-4a71-9301-4c621e2ed941 button.colab-df-convert');\n",
       "        buttonEl.style.display =\n",
       "          google.colab.kernel.accessAllowed ? 'block' : 'none';\n",
       "\n",
       "        async function convertToInteractive(key) {\n",
       "          const element = document.querySelector('#df-98283dd2-7eeb-4a71-9301-4c621e2ed941');\n",
       "          const dataTable =\n",
       "            await google.colab.kernel.invokeFunction('convertToInteractive',\n",
       "                                                     [key], {});\n",
       "          if (!dataTable) return;\n",
       "\n",
       "          const docLinkHtml = 'Like what you see? Visit the ' +\n",
       "            '<a target=\"_blank\" href=https://colab.research.google.com/notebooks/data_table.ipynb>data table notebook</a>'\n",
       "            + ' to learn more about interactive tables.';\n",
       "          element.innerHTML = '';\n",
       "          dataTable['output_type'] = 'display_data';\n",
       "          await google.colab.output.renderOutput(dataTable, element);\n",
       "          const docLink = document.createElement('div');\n",
       "          docLink.innerHTML = docLinkHtml;\n",
       "          element.appendChild(docLink);\n",
       "        }\n",
       "      </script>\n",
       "    </div>\n",
       "  </div>\n",
       "  "
      ],
      "text/plain": [
       "       Temperature (C)  Humidity\n",
       "23921         0.371524      0.96\n",
       "32274         0.542615      0.93\n",
       "33172         0.677977      0.90\n",
       "38832         0.441634      0.81\n",
       "36289         0.497525      1.00\n",
       "...                ...       ...\n",
       "6265          0.394834      0.86\n",
       "11284         0.639816      0.52\n",
       "38158         0.638556      0.97\n",
       "860           0.265053      0.77\n",
       "15795         0.309963      0.83\n",
       "\n",
       "[33597 rows x 2 columns]"
      ]
     },
     "execution_count": 78,
     "metadata": {},
     "output_type": "execute_result"
    }
   ],
   "source": [
    "x_train"
   ]
  },
  {
   "cell_type": "code",
   "execution_count": null,
   "id": "e983176d",
   "metadata": {
    "colab": {
     "base_uri": "https://localhost:8080/",
     "height": 455
    },
    "id": "e983176d",
    "outputId": "4a2886eb-e348-41f4-cf3b-41bdfc08d951"
   },
   "outputs": [
    {
     "data": {
      "text/html": [
       "\n",
       "  <div id=\"df-6ff5ca97-bb56-4b72-baf2-9801946bce88\">\n",
       "    <div class=\"colab-df-container\">\n",
       "      <div>\n",
       "<style scoped>\n",
       "    .dataframe tbody tr th:only-of-type {\n",
       "        vertical-align: middle;\n",
       "    }\n",
       "\n",
       "    .dataframe tbody tr th {\n",
       "        vertical-align: top;\n",
       "    }\n",
       "\n",
       "    .dataframe thead th {\n",
       "        text-align: right;\n",
       "    }\n",
       "</style>\n",
       "<table border=\"1\" class=\"dataframe\">\n",
       "  <thead>\n",
       "    <tr style=\"text-align: right;\">\n",
       "      <th></th>\n",
       "      <th>Summary_cloudy</th>\n",
       "      <th>Summary_foggy</th>\n",
       "      <th>Summary_rainy</th>\n",
       "      <th>Summary_sunny</th>\n",
       "    </tr>\n",
       "    <tr>\n",
       "      <th>Date-Time</th>\n",
       "      <th></th>\n",
       "      <th></th>\n",
       "      <th></th>\n",
       "      <th></th>\n",
       "    </tr>\n",
       "  </thead>\n",
       "  <tbody>\n",
       "    <tr>\n",
       "      <th>2012-01-08 23:00:00</th>\n",
       "      <td>0</td>\n",
       "      <td>1</td>\n",
       "      <td>0</td>\n",
       "      <td>0</td>\n",
       "    </tr>\n",
       "    <tr>\n",
       "      <th>2014-10-18 00:00:00</th>\n",
       "      <td>0</td>\n",
       "      <td>0</td>\n",
       "      <td>0</td>\n",
       "      <td>1</td>\n",
       "    </tr>\n",
       "    <tr>\n",
       "      <th>2015-08-06 01:00:00</th>\n",
       "      <td>1</td>\n",
       "      <td>0</td>\n",
       "      <td>0</td>\n",
       "      <td>0</td>\n",
       "    </tr>\n",
       "    <tr>\n",
       "      <th>2016-11-21 18:00:00</th>\n",
       "      <td>1</td>\n",
       "      <td>0</td>\n",
       "      <td>0</td>\n",
       "      <td>0</td>\n",
       "    </tr>\n",
       "    <tr>\n",
       "      <th>2015-09-13 04:00:00</th>\n",
       "      <td>0</td>\n",
       "      <td>0</td>\n",
       "      <td>0</td>\n",
       "      <td>1</td>\n",
       "    </tr>\n",
       "    <tr>\n",
       "      <th>...</th>\n",
       "      <td>...</td>\n",
       "      <td>...</td>\n",
       "      <td>...</td>\n",
       "      <td>...</td>\n",
       "    </tr>\n",
       "    <tr>\n",
       "      <th>2007-03-12 02:00:00</th>\n",
       "      <td>0</td>\n",
       "      <td>0</td>\n",
       "      <td>0</td>\n",
       "      <td>1</td>\n",
       "    </tr>\n",
       "    <tr>\n",
       "      <th>2009-04-15 11:00:00</th>\n",
       "      <td>0</td>\n",
       "      <td>0</td>\n",
       "      <td>0</td>\n",
       "      <td>1</td>\n",
       "    </tr>\n",
       "    <tr>\n",
       "      <th>2016-06-21 04:00:00</th>\n",
       "      <td>1</td>\n",
       "      <td>0</td>\n",
       "      <td>0</td>\n",
       "      <td>0</td>\n",
       "    </tr>\n",
       "    <tr>\n",
       "      <th>2006-12-27 01:00:00</th>\n",
       "      <td>0</td>\n",
       "      <td>0</td>\n",
       "      <td>0</td>\n",
       "      <td>1</td>\n",
       "    </tr>\n",
       "    <tr>\n",
       "      <th>2010-02-14 04:00:00</th>\n",
       "      <td>0</td>\n",
       "      <td>0</td>\n",
       "      <td>0</td>\n",
       "      <td>1</td>\n",
       "    </tr>\n",
       "  </tbody>\n",
       "</table>\n",
       "<p>33597 rows × 4 columns</p>\n",
       "</div>\n",
       "      <button class=\"colab-df-convert\" onclick=\"convertToInteractive('df-6ff5ca97-bb56-4b72-baf2-9801946bce88')\"\n",
       "              title=\"Convert this dataframe to an interactive table.\"\n",
       "              style=\"display:none;\">\n",
       "        \n",
       "  <svg xmlns=\"http://www.w3.org/2000/svg\" height=\"24px\"viewBox=\"0 0 24 24\"\n",
       "       width=\"24px\">\n",
       "    <path d=\"M0 0h24v24H0V0z\" fill=\"none\"/>\n",
       "    <path d=\"M18.56 5.44l.94 2.06.94-2.06 2.06-.94-2.06-.94-.94-2.06-.94 2.06-2.06.94zm-11 1L8.5 8.5l.94-2.06 2.06-.94-2.06-.94L8.5 2.5l-.94 2.06-2.06.94zm10 10l.94 2.06.94-2.06 2.06-.94-2.06-.94-.94-2.06-.94 2.06-2.06.94z\"/><path d=\"M17.41 7.96l-1.37-1.37c-.4-.4-.92-.59-1.43-.59-.52 0-1.04.2-1.43.59L10.3 9.45l-7.72 7.72c-.78.78-.78 2.05 0 2.83L4 21.41c.39.39.9.59 1.41.59.51 0 1.02-.2 1.41-.59l7.78-7.78 2.81-2.81c.8-.78.8-2.07 0-2.86zM5.41 20L4 18.59l7.72-7.72 1.47 1.35L5.41 20z\"/>\n",
       "  </svg>\n",
       "      </button>\n",
       "      \n",
       "  <style>\n",
       "    .colab-df-container {\n",
       "      display:flex;\n",
       "      flex-wrap:wrap;\n",
       "      gap: 12px;\n",
       "    }\n",
       "\n",
       "    .colab-df-convert {\n",
       "      background-color: #E8F0FE;\n",
       "      border: none;\n",
       "      border-radius: 50%;\n",
       "      cursor: pointer;\n",
       "      display: none;\n",
       "      fill: #1967D2;\n",
       "      height: 32px;\n",
       "      padding: 0 0 0 0;\n",
       "      width: 32px;\n",
       "    }\n",
       "\n",
       "    .colab-df-convert:hover {\n",
       "      background-color: #E2EBFA;\n",
       "      box-shadow: 0px 1px 2px rgba(60, 64, 67, 0.3), 0px 1px 3px 1px rgba(60, 64, 67, 0.15);\n",
       "      fill: #174EA6;\n",
       "    }\n",
       "\n",
       "    [theme=dark] .colab-df-convert {\n",
       "      background-color: #3B4455;\n",
       "      fill: #D2E3FC;\n",
       "    }\n",
       "\n",
       "    [theme=dark] .colab-df-convert:hover {\n",
       "      background-color: #434B5C;\n",
       "      box-shadow: 0px 1px 3px 1px rgba(0, 0, 0, 0.15);\n",
       "      filter: drop-shadow(0px 1px 2px rgba(0, 0, 0, 0.3));\n",
       "      fill: #FFFFFF;\n",
       "    }\n",
       "  </style>\n",
       "\n",
       "      <script>\n",
       "        const buttonEl =\n",
       "          document.querySelector('#df-6ff5ca97-bb56-4b72-baf2-9801946bce88 button.colab-df-convert');\n",
       "        buttonEl.style.display =\n",
       "          google.colab.kernel.accessAllowed ? 'block' : 'none';\n",
       "\n",
       "        async function convertToInteractive(key) {\n",
       "          const element = document.querySelector('#df-6ff5ca97-bb56-4b72-baf2-9801946bce88');\n",
       "          const dataTable =\n",
       "            await google.colab.kernel.invokeFunction('convertToInteractive',\n",
       "                                                     [key], {});\n",
       "          if (!dataTable) return;\n",
       "\n",
       "          const docLinkHtml = 'Like what you see? Visit the ' +\n",
       "            '<a target=\"_blank\" href=https://colab.research.google.com/notebooks/data_table.ipynb>data table notebook</a>'\n",
       "            + ' to learn more about interactive tables.';\n",
       "          element.innerHTML = '';\n",
       "          dataTable['output_type'] = 'display_data';\n",
       "          await google.colab.output.renderOutput(dataTable, element);\n",
       "          const docLink = document.createElement('div');\n",
       "          docLink.innerHTML = docLinkHtml;\n",
       "          element.appendChild(docLink);\n",
       "        }\n",
       "      </script>\n",
       "    </div>\n",
       "  </div>\n",
       "  "
      ],
      "text/plain": [
       "                     Summary_cloudy  Summary_foggy  Summary_rainy  \\\n",
       "Date-Time                                                           \n",
       "2012-01-08 23:00:00               0              1              0   \n",
       "2014-10-18 00:00:00               0              0              0   \n",
       "2015-08-06 01:00:00               1              0              0   \n",
       "2016-11-21 18:00:00               1              0              0   \n",
       "2015-09-13 04:00:00               0              0              0   \n",
       "...                             ...            ...            ...   \n",
       "2007-03-12 02:00:00               0              0              0   \n",
       "2009-04-15 11:00:00               0              0              0   \n",
       "2016-06-21 04:00:00               1              0              0   \n",
       "2006-12-27 01:00:00               0              0              0   \n",
       "2010-02-14 04:00:00               0              0              0   \n",
       "\n",
       "                     Summary_sunny  \n",
       "Date-Time                           \n",
       "2012-01-08 23:00:00              0  \n",
       "2014-10-18 00:00:00              1  \n",
       "2015-08-06 01:00:00              0  \n",
       "2016-11-21 18:00:00              0  \n",
       "2015-09-13 04:00:00              1  \n",
       "...                            ...  \n",
       "2007-03-12 02:00:00              1  \n",
       "2009-04-15 11:00:00              1  \n",
       "2016-06-21 04:00:00              0  \n",
       "2006-12-27 01:00:00              1  \n",
       "2010-02-14 04:00:00              1  \n",
       "\n",
       "[33597 rows x 4 columns]"
      ]
     },
     "execution_count": 79,
     "metadata": {},
     "output_type": "execute_result"
    }
   ],
   "source": [
    "y_train"
   ]
  },
  {
   "cell_type": "code",
   "execution_count": null,
   "id": "81802769",
   "metadata": {
    "colab": {
     "base_uri": "https://localhost:8080/"
    },
    "id": "81802769",
    "outputId": "47b0ac21-31b0-4d9f-91db-bf479267a0ee"
   },
   "outputs": [
    {
     "name": "stdout",
     "output_type": "stream",
     "text": [
      "x_train:  (33597, 2)\n",
      "y_train:  (33597, 4)\n",
      "x_test:  (5929, 2)\n",
      "y_test:  (5929, 4)\n"
     ]
    }
   ],
   "source": [
    "#x_train = x_train.values.reshape((len(x_train), 1, 5))\n",
    "#y_train = y_train.values.reshape((len(y_train), 1, 4))\n",
    "#x_test = x_test.values.reshape((len(x_test), 1, 5))\n",
    "#y_test = y_test.values.reshape((len(y_test), 1,  4))\n",
    "\n",
    "print('x_train: ', x_train.shape)\n",
    "print('y_train: ', y_train.shape)\n",
    "print('x_test: ', x_test.shape)\n",
    "print('y_test: ', y_test.shape)\n"
   ]
  },
  {
   "cell_type": "code",
   "execution_count": null,
   "id": "a79996fe",
   "metadata": {
    "colab": {
     "base_uri": "https://localhost:8080/"
    },
    "id": "a79996fe",
    "outputId": "d37ffae9-e9de-4b2b-9cbb-fa1f1924abb4",
    "scrolled": true
   },
   "outputs": [
    {
     "name": "stdout",
     "output_type": "stream",
     "text": [
      "Model: \"sequential_8\"\n",
      "_________________________________________________________________\n",
      "Layer (type)                 Output Shape              Param #   \n",
      "=================================================================\n",
      "dense_24 (Dense)             (None, 64)                192       \n",
      "_________________________________________________________________\n",
      "dropout_16 (Dropout)         (None, 64)                0         \n",
      "_________________________________________________________________\n",
      "dense_25 (Dense)             (None, 32)                2080      \n",
      "_________________________________________________________________\n",
      "dropout_17 (Dropout)         (None, 32)                0         \n",
      "_________________________________________________________________\n",
      "dense_26 (Dense)             (None, 4)                 132       \n",
      "=================================================================\n",
      "Total params: 2,404\n",
      "Trainable params: 2,404\n",
      "Non-trainable params: 0\n",
      "_________________________________________________________________\n",
      "None\n",
      "Train on 33596 samples, validate on 5929 samples\n",
      "Epoch 1/100\n",
      "33596/33596 [==============================] - 7s 195us/sample - loss: 1.2297 - categorical_accuracy: 0.3936 - val_loss: 1.1431 - val_categorical_accuracy: 0.4495\n",
      "Epoch 2/100\n",
      "33596/33596 [==============================] - 6s 171us/sample - loss: 1.1490 - categorical_accuracy: 0.4404 - val_loss: 1.1224 - val_categorical_accuracy: 0.4488\n",
      "Epoch 3/100\n",
      "33596/33596 [==============================] - 6s 180us/sample - loss: 1.1306 - categorical_accuracy: 0.4527 - val_loss: 1.1081 - val_categorical_accuracy: 0.4613\n",
      "Epoch 4/100\n",
      "33596/33596 [==============================] - 6s 180us/sample - loss: 1.1168 - categorical_accuracy: 0.4614 - val_loss: 1.0955 - val_categorical_accuracy: 0.4664\n",
      "Epoch 5/100\n",
      "33596/33596 [==============================] - 6s 181us/sample - loss: 1.1037 - categorical_accuracy: 0.4684 - val_loss: 1.0897 - val_categorical_accuracy: 0.4662\n",
      "Epoch 6/100\n",
      "33596/33596 [==============================] - 6s 180us/sample - loss: 1.0963 - categorical_accuracy: 0.4726 - val_loss: 1.0817 - val_categorical_accuracy: 0.4741\n",
      "Epoch 7/100\n",
      "33596/33596 [==============================] - 6s 175us/sample - loss: 1.0945 - categorical_accuracy: 0.4705 - val_loss: 1.0794 - val_categorical_accuracy: 0.4739\n",
      "Epoch 8/100\n",
      "33596/33596 [==============================] - 6s 173us/sample - loss: 1.0908 - categorical_accuracy: 0.4751 - val_loss: 1.0786 - val_categorical_accuracy: 0.4731\n",
      "Epoch 9/100\n",
      "33596/33596 [==============================] - 6s 177us/sample - loss: 1.0904 - categorical_accuracy: 0.4738 - val_loss: 1.0777 - val_categorical_accuracy: 0.4719\n",
      "Epoch 10/100\n",
      "33596/33596 [==============================] - 6s 172us/sample - loss: 1.0915 - categorical_accuracy: 0.4757 - val_loss: 1.0840 - val_categorical_accuracy: 0.4606\n",
      "Epoch 11/100\n",
      "33596/33596 [==============================] - 6s 177us/sample - loss: 1.0886 - categorical_accuracy: 0.4750 - val_loss: 1.0810 - val_categorical_accuracy: 0.4724\n",
      "Epoch 12/100\n",
      "33596/33596 [==============================] - 6s 178us/sample - loss: 1.0883 - categorical_accuracy: 0.4744 - val_loss: 1.0773 - val_categorical_accuracy: 0.4694\n",
      "Epoch 13/100\n",
      "33596/33596 [==============================] - 6s 191us/sample - loss: 1.0883 - categorical_accuracy: 0.4766 - val_loss: 1.0766 - val_categorical_accuracy: 0.4696\n",
      "Epoch 14/100\n",
      "33596/33596 [==============================] - 6s 177us/sample - loss: 1.0879 - categorical_accuracy: 0.4744 - val_loss: 1.0763 - val_categorical_accuracy: 0.4694\n",
      "Epoch 15/100\n",
      "33596/33596 [==============================] - 6s 173us/sample - loss: 1.0893 - categorical_accuracy: 0.4750 - val_loss: 1.0793 - val_categorical_accuracy: 0.4662\n",
      "Epoch 16/100\n",
      "33596/33596 [==============================] - 6s 174us/sample - loss: 1.0879 - categorical_accuracy: 0.4772 - val_loss: 1.0780 - val_categorical_accuracy: 0.4665\n",
      "Epoch 17/100\n",
      "33596/33596 [==============================] - 6s 170us/sample - loss: 1.0874 - categorical_accuracy: 0.4759 - val_loss: 1.0762 - val_categorical_accuracy: 0.4685\n",
      "Epoch 18/100\n",
      "33596/33596 [==============================] - 6s 176us/sample - loss: 1.0873 - categorical_accuracy: 0.4757 - val_loss: 1.0818 - val_categorical_accuracy: 0.4750\n",
      "Epoch 19/100\n",
      "33596/33596 [==============================] - 6s 177us/sample - loss: 1.0862 - categorical_accuracy: 0.4762 - val_loss: 1.0820 - val_categorical_accuracy: 0.4748\n",
      "Epoch 20/100\n",
      "33596/33596 [==============================] - 6s 170us/sample - loss: 1.0868 - categorical_accuracy: 0.4771 - val_loss: 1.0770 - val_categorical_accuracy: 0.4691\n",
      "Epoch 21/100\n",
      "33596/33596 [==============================] - 6s 178us/sample - loss: 1.0865 - categorical_accuracy: 0.4790 - val_loss: 1.0760 - val_categorical_accuracy: 0.4712\n",
      "Epoch 22/100\n",
      "33596/33596 [==============================] - 6s 180us/sample - loss: 1.0858 - categorical_accuracy: 0.4760 - val_loss: 1.0797 - val_categorical_accuracy: 0.4711\n",
      "Epoch 23/100\n",
      "33596/33596 [==============================] - 6s 174us/sample - loss: 1.0869 - categorical_accuracy: 0.4765 - val_loss: 1.0800 - val_categorical_accuracy: 0.4716\n",
      "Epoch 24/100\n",
      "33596/33596 [==============================] - 6s 173us/sample - loss: 1.0873 - categorical_accuracy: 0.4761 - val_loss: 1.0857 - val_categorical_accuracy: 0.4589\n",
      "Epoch 25/100\n",
      "33596/33596 [==============================] - 6s 176us/sample - loss: 1.0866 - categorical_accuracy: 0.4768 - val_loss: 1.0758 - val_categorical_accuracy: 0.4699\n",
      "Epoch 26/100\n",
      "33596/33596 [==============================] - 6s 177us/sample - loss: 1.0866 - categorical_accuracy: 0.4771 - val_loss: 1.0771 - val_categorical_accuracy: 0.4739\n",
      "Epoch 27/100\n",
      "33596/33596 [==============================] - 6s 176us/sample - loss: 1.0863 - categorical_accuracy: 0.4781 - val_loss: 1.0763 - val_categorical_accuracy: 0.4689\n",
      "Epoch 28/100\n",
      "33596/33596 [==============================] - 6s 171us/sample - loss: 1.0844 - categorical_accuracy: 0.4768 - val_loss: 1.0765 - val_categorical_accuracy: 0.4670\n",
      "Epoch 29/100\n",
      "33596/33596 [==============================] - 6s 179us/sample - loss: 1.0856 - categorical_accuracy: 0.4758 - val_loss: 1.0760 - val_categorical_accuracy: 0.4721\n",
      "Epoch 30/100\n",
      "33596/33596 [==============================] - 6s 178us/sample - loss: 1.0859 - categorical_accuracy: 0.4767 - val_loss: 1.0765 - val_categorical_accuracy: 0.4770\n",
      "Epoch 31/100\n",
      "33596/33596 [==============================] - 7s 196us/sample - loss: 1.0856 - categorical_accuracy: 0.4755 - val_loss: 1.0772 - val_categorical_accuracy: 0.4709\n",
      "Epoch 32/100\n",
      "33596/33596 [==============================] - 6s 175us/sample - loss: 1.0866 - categorical_accuracy: 0.4775 - val_loss: 1.0766 - val_categorical_accuracy: 0.4687\n",
      "Epoch 33/100\n",
      "33596/33596 [==============================] - 6s 179us/sample - loss: 1.0855 - categorical_accuracy: 0.4773 - val_loss: 1.0758 - val_categorical_accuracy: 0.4716\n",
      "Epoch 34/100\n",
      "33596/33596 [==============================] - 6s 175us/sample - loss: 1.0868 - categorical_accuracy: 0.4768 - val_loss: 1.0754 - val_categorical_accuracy: 0.4691\n",
      "Epoch 35/100\n",
      "33596/33596 [==============================] - 6s 175us/sample - loss: 1.0859 - categorical_accuracy: 0.4771 - val_loss: 1.0759 - val_categorical_accuracy: 0.4736\n",
      "Epoch 36/100\n",
      "33596/33596 [==============================] - 6s 178us/sample - loss: 1.0859 - categorical_accuracy: 0.4764 - val_loss: 1.0757 - val_categorical_accuracy: 0.4685\n",
      "Epoch 37/100\n",
      "33596/33596 [==============================] - 6s 180us/sample - loss: 1.0866 - categorical_accuracy: 0.4762 - val_loss: 1.0758 - val_categorical_accuracy: 0.4738\n",
      "Epoch 38/100\n",
      "33596/33596 [==============================] - 6s 176us/sample - loss: 1.0854 - categorical_accuracy: 0.4776 - val_loss: 1.0775 - val_categorical_accuracy: 0.4701\n",
      "Epoch 39/100\n",
      "33596/33596 [==============================] - 6s 176us/sample - loss: 1.0869 - categorical_accuracy: 0.4765 - val_loss: 1.0779 - val_categorical_accuracy: 0.4707\n",
      "Epoch 40/100\n",
      "33596/33596 [==============================] - 6s 177us/sample - loss: 1.0852 - categorical_accuracy: 0.4749 - val_loss: 1.0762 - val_categorical_accuracy: 0.4729\n",
      "Epoch 41/100\n",
      "33596/33596 [==============================] - 6s 176us/sample - loss: 1.0845 - categorical_accuracy: 0.4764 - val_loss: 1.0751 - val_categorical_accuracy: 0.4682\n",
      "Epoch 42/100\n",
      "33596/33596 [==============================] - 6s 179us/sample - loss: 1.0848 - categorical_accuracy: 0.4787 - val_loss: 1.0751 - val_categorical_accuracy: 0.4706\n",
      "Epoch 43/100\n",
      "33596/33596 [==============================] - 6s 177us/sample - loss: 1.0849 - categorical_accuracy: 0.4755 - val_loss: 1.0756 - val_categorical_accuracy: 0.4660\n",
      "Epoch 44/100\n",
      "33596/33596 [==============================] - 6s 176us/sample - loss: 1.0848 - categorical_accuracy: 0.4783 - val_loss: 1.0752 - val_categorical_accuracy: 0.4724\n",
      "Epoch 45/100\n",
      "33596/33596 [==============================] - 6s 177us/sample - loss: 1.0845 - categorical_accuracy: 0.4783 - val_loss: 1.0749 - val_categorical_accuracy: 0.4734\n",
      "Epoch 46/100\n",
      "33596/33596 [==============================] - 6s 176us/sample - loss: 1.0856 - categorical_accuracy: 0.4792 - val_loss: 1.0752 - val_categorical_accuracy: 0.4731\n",
      "Epoch 47/100\n",
      "33596/33596 [==============================] - 6s 178us/sample - loss: 1.0838 - categorical_accuracy: 0.4766 - val_loss: 1.0744 - val_categorical_accuracy: 0.4696\n",
      "Epoch 48/100\n",
      "33596/33596 [==============================] - 6s 175us/sample - loss: 1.0857 - categorical_accuracy: 0.4771 - val_loss: 1.0749 - val_categorical_accuracy: 0.4733\n",
      "Epoch 49/100\n",
      "33596/33596 [==============================] - 6s 180us/sample - loss: 1.0840 - categorical_accuracy: 0.4777 - val_loss: 1.0776 - val_categorical_accuracy: 0.4728\n",
      "Epoch 50/100\n",
      "33596/33596 [==============================] - 6s 179us/sample - loss: 1.0855 - categorical_accuracy: 0.4767 - val_loss: 1.0752 - val_categorical_accuracy: 0.4744\n",
      "Epoch 51/100\n",
      "33596/33596 [==============================] - 6s 178us/sample - loss: 1.0855 - categorical_accuracy: 0.4779 - val_loss: 1.0764 - val_categorical_accuracy: 0.4706\n",
      "Epoch 52/100\n",
      "33596/33596 [==============================] - 6s 180us/sample - loss: 1.0836 - categorical_accuracy: 0.4778 - val_loss: 1.0741 - val_categorical_accuracy: 0.4697\n",
      "Epoch 53/100\n",
      "33596/33596 [==============================] - 6s 177us/sample - loss: 1.0847 - categorical_accuracy: 0.4755 - val_loss: 1.0754 - val_categorical_accuracy: 0.4669\n",
      "Epoch 54/100\n",
      "33596/33596 [==============================] - 6s 174us/sample - loss: 1.0842 - categorical_accuracy: 0.4775 - val_loss: 1.0747 - val_categorical_accuracy: 0.4707\n",
      "Epoch 55/100\n",
      "33596/33596 [==============================] - 6s 179us/sample - loss: 1.0844 - categorical_accuracy: 0.4755 - val_loss: 1.0738 - val_categorical_accuracy: 0.4696\n",
      "Epoch 56/100\n",
      "33596/33596 [==============================] - 6s 182us/sample - loss: 1.0848 - categorical_accuracy: 0.4779 - val_loss: 1.0763 - val_categorical_accuracy: 0.4743\n",
      "Epoch 57/100\n",
      "33596/33596 [==============================] - 6s 183us/sample - loss: 1.0841 - categorical_accuracy: 0.4754 - val_loss: 1.0739 - val_categorical_accuracy: 0.4728\n",
      "Epoch 58/100\n",
      "33596/33596 [==============================] - 6s 179us/sample - loss: 1.0837 - categorical_accuracy: 0.4778 - val_loss: 1.0747 - val_categorical_accuracy: 0.4734\n",
      "Epoch 59/100\n",
      "33596/33596 [==============================] - 6s 174us/sample - loss: 1.0841 - categorical_accuracy: 0.4776 - val_loss: 1.0742 - val_categorical_accuracy: 0.4726\n",
      "Epoch 60/100\n",
      "33596/33596 [==============================] - 6s 179us/sample - loss: 1.0837 - categorical_accuracy: 0.4766 - val_loss: 1.0734 - val_categorical_accuracy: 0.4733\n",
      "Epoch 61/100\n",
      "33596/33596 [==============================] - 6s 181us/sample - loss: 1.0835 - categorical_accuracy: 0.4755 - val_loss: 1.0732 - val_categorical_accuracy: 0.4723\n",
      "Epoch 62/100\n",
      "33596/33596 [==============================] - 6s 177us/sample - loss: 1.0829 - categorical_accuracy: 0.4768 - val_loss: 1.0729 - val_categorical_accuracy: 0.4702\n",
      "Epoch 63/100\n",
      "33596/33596 [==============================] - 6s 177us/sample - loss: 1.0837 - categorical_accuracy: 0.4765 - val_loss: 1.0762 - val_categorical_accuracy: 0.4731\n",
      "Epoch 64/100\n",
      "33596/33596 [==============================] - 6s 177us/sample - loss: 1.0829 - categorical_accuracy: 0.4775 - val_loss: 1.0762 - val_categorical_accuracy: 0.4746\n",
      "Epoch 65/100\n",
      "33596/33596 [==============================] - 6s 182us/sample - loss: 1.0831 - categorical_accuracy: 0.4776 - val_loss: 1.0728 - val_categorical_accuracy: 0.4726\n",
      "Epoch 66/100\n",
      "33596/33596 [==============================] - 6s 176us/sample - loss: 1.0826 - categorical_accuracy: 0.4779 - val_loss: 1.0731 - val_categorical_accuracy: 0.4711\n",
      "Epoch 67/100\n",
      "33596/33596 [==============================] - 6s 175us/sample - loss: 1.0829 - categorical_accuracy: 0.4782 - val_loss: 1.0725 - val_categorical_accuracy: 0.4739\n",
      "Epoch 68/100\n",
      "33596/33596 [==============================] - 6s 182us/sample - loss: 1.0836 - categorical_accuracy: 0.4782 - val_loss: 1.0727 - val_categorical_accuracy: 0.4711\n",
      "Epoch 69/100\n",
      "33596/33596 [==============================] - 6s 179us/sample - loss: 1.0828 - categorical_accuracy: 0.4776 - val_loss: 1.0762 - val_categorical_accuracy: 0.4751\n",
      "Epoch 70/100\n",
      "33596/33596 [==============================] - 6s 183us/sample - loss: 1.0828 - categorical_accuracy: 0.4783 - val_loss: 1.0732 - val_categorical_accuracy: 0.4717\n",
      "Epoch 71/100\n",
      "33596/33596 [==============================] - 6s 174us/sample - loss: 1.0834 - categorical_accuracy: 0.4776 - val_loss: 1.0730 - val_categorical_accuracy: 0.4704\n",
      "Epoch 72/100\n",
      "33596/33596 [==============================] - 6s 180us/sample - loss: 1.0840 - categorical_accuracy: 0.4764 - val_loss: 1.0723 - val_categorical_accuracy: 0.4731\n",
      "Epoch 73/100\n",
      "33596/33596 [==============================] - 6s 180us/sample - loss: 1.0825 - categorical_accuracy: 0.4776 - val_loss: 1.0728 - val_categorical_accuracy: 0.4766\n",
      "Epoch 74/100\n",
      "33596/33596 [==============================] - 6s 177us/sample - loss: 1.0835 - categorical_accuracy: 0.4786 - val_loss: 1.0723 - val_categorical_accuracy: 0.4716\n",
      "Epoch 75/100\n",
      "33596/33596 [==============================] - 6s 181us/sample - loss: 1.0826 - categorical_accuracy: 0.4765 - val_loss: 1.0733 - val_categorical_accuracy: 0.4704\n",
      "Epoch 76/100\n",
      "33596/33596 [==============================] - 6s 174us/sample - loss: 1.0821 - categorical_accuracy: 0.4770 - val_loss: 1.0713 - val_categorical_accuracy: 0.4748\n",
      "Epoch 77/100\n",
      "33596/33596 [==============================] - 6s 179us/sample - loss: 1.0832 - categorical_accuracy: 0.4776 - val_loss: 1.0712 - val_categorical_accuracy: 0.4721\n",
      "Epoch 78/100\n",
      "33596/33596 [==============================] - 6s 180us/sample - loss: 1.0820 - categorical_accuracy: 0.4759 - val_loss: 1.0729 - val_categorical_accuracy: 0.4738\n",
      "Epoch 79/100\n",
      "33596/33596 [==============================] - 6s 181us/sample - loss: 1.0836 - categorical_accuracy: 0.4764 - val_loss: 1.0720 - val_categorical_accuracy: 0.4729\n",
      "Epoch 80/100\n",
      "33596/33596 [==============================] - 6s 180us/sample - loss: 1.0820 - categorical_accuracy: 0.4783 - val_loss: 1.0711 - val_categorical_accuracy: 0.4726\n",
      "Epoch 81/100\n",
      "33596/33596 [==============================] - 6s 179us/sample - loss: 1.0848 - categorical_accuracy: 0.4752 - val_loss: 1.0720 - val_categorical_accuracy: 0.4741\n",
      "Epoch 82/100\n",
      "33596/33596 [==============================] - 6s 181us/sample - loss: 1.0816 - categorical_accuracy: 0.4797 - val_loss: 1.0715 - val_categorical_accuracy: 0.4739\n",
      "Epoch 83/100\n",
      "33596/33596 [==============================] - 6s 177us/sample - loss: 1.0824 - categorical_accuracy: 0.4778 - val_loss: 1.0705 - val_categorical_accuracy: 0.4733\n",
      "Epoch 84/100\n",
      "33596/33596 [==============================] - 6s 177us/sample - loss: 1.0816 - categorical_accuracy: 0.4789 - val_loss: 1.0716 - val_categorical_accuracy: 0.4733\n",
      "Epoch 85/100\n",
      "33596/33596 [==============================] - 6s 178us/sample - loss: 1.0831 - categorical_accuracy: 0.4782 - val_loss: 1.0725 - val_categorical_accuracy: 0.4773\n",
      "Epoch 86/100\n",
      "33596/33596 [==============================] - 6s 181us/sample - loss: 1.0828 - categorical_accuracy: 0.4763 - val_loss: 1.0704 - val_categorical_accuracy: 0.4721\n",
      "Epoch 87/100\n",
      "33596/33596 [==============================] - 6s 178us/sample - loss: 1.0825 - categorical_accuracy: 0.4764 - val_loss: 1.0704 - val_categorical_accuracy: 0.4719\n",
      "Epoch 88/100\n",
      "33596/33596 [==============================] - 6s 183us/sample - loss: 1.0817 - categorical_accuracy: 0.4800 - val_loss: 1.0706 - val_categorical_accuracy: 0.4750\n",
      "Epoch 89/100\n",
      "33596/33596 [==============================] - 6s 181us/sample - loss: 1.0825 - categorical_accuracy: 0.4775 - val_loss: 1.0707 - val_categorical_accuracy: 0.4748\n",
      "Epoch 90/100\n",
      "33596/33596 [==============================] - 6s 181us/sample - loss: 1.0831 - categorical_accuracy: 0.4782 - val_loss: 1.0713 - val_categorical_accuracy: 0.4760\n",
      "Epoch 91/100\n",
      "33596/33596 [==============================] - 6s 176us/sample - loss: 1.0825 - categorical_accuracy: 0.4773 - val_loss: 1.0704 - val_categorical_accuracy: 0.4763\n",
      "Epoch 92/100\n",
      "33596/33596 [==============================] - 6s 177us/sample - loss: 1.0813 - categorical_accuracy: 0.4764 - val_loss: 1.0709 - val_categorical_accuracy: 0.4738\n",
      "Epoch 93/100\n",
      "33596/33596 [==============================] - 6s 183us/sample - loss: 1.0814 - categorical_accuracy: 0.4779 - val_loss: 1.0717 - val_categorical_accuracy: 0.4771\n",
      "Epoch 94/100\n",
      "33596/33596 [==============================] - 6s 171us/sample - loss: 1.0812 - categorical_accuracy: 0.4784 - val_loss: 1.0715 - val_categorical_accuracy: 0.4768\n",
      "Epoch 95/100\n",
      "33596/33596 [==============================] - 6s 175us/sample - loss: 1.0809 - categorical_accuracy: 0.4791 - val_loss: 1.0728 - val_categorical_accuracy: 0.4738\n",
      "Epoch 96/100\n",
      "33596/33596 [==============================] - 6s 178us/sample - loss: 1.0821 - categorical_accuracy: 0.4786 - val_loss: 1.0704 - val_categorical_accuracy: 0.4723\n",
      "Epoch 97/100\n",
      "33596/33596 [==============================] - 6s 180us/sample - loss: 1.0803 - categorical_accuracy: 0.4772 - val_loss: 1.0713 - val_categorical_accuracy: 0.4717\n",
      "Epoch 98/100\n",
      "33596/33596 [==============================] - 6s 182us/sample - loss: 1.0809 - categorical_accuracy: 0.4797 - val_loss: 1.0696 - val_categorical_accuracy: 0.4750\n",
      "Epoch 99/100\n",
      "33596/33596 [==============================] - 6s 182us/sample - loss: 1.0815 - categorical_accuracy: 0.4782 - val_loss: 1.0697 - val_categorical_accuracy: 0.4755\n",
      "Epoch 100/100\n",
      "33596/33596 [==============================] - 6s 181us/sample - loss: 1.0810 - categorical_accuracy: 0.4794 - val_loss: 1.0708 - val_categorical_accuracy: 0.4746\n"
     ]
    }
   ],
   "source": [
    "#ANN Architecture\n",
    "\n",
    "model = Sequential()\n",
    "\n",
    "model.add(Input(shape=(N_FEATURES,)))\n",
    "\n",
    "model.add(Dense(64,activation=\"elu\"))\n",
    "model.add(Dropout(0.25))\n",
    "\n",
    "model.add(Dense(32,activation=\"elu\"))\n",
    "model.add(Dropout(0.25))\n",
    "\n",
    "model.add(Dense(N_LABELS,activation=\"softmax\"))\n",
    "\n",
    "print(model.summary())\n",
    "\n",
    "#tf.keras.utils.plot_model(model, show_shapes=True)\n",
    "\n",
    "batch_size = 25\n",
    "opt = tf.keras.optimizers.Adam(learning_rate=0.00025, beta_1 = 0.97, decay=1e-7) #  original: 0.00005 (0.00025), 0.97, 5e-7\n",
    "model.compile(optimizer = opt, loss = \"categorical_crossentropy\", metrics=['categorical_accuracy'])\n",
    "\n",
    "# this callback EarlyStopping will stop the training when there is no improvement in the validation loss for 'patience' conseccutive epochs\n",
    "callback = tf.keras.callbacks.EarlyStopping(monitor = 'val_loss', patience = PATIENCE, verbose = 1)\n",
    "\n",
    "history = model.fit(x_train[:-1], y_train[:-1], epochs = EPOCHS, validation_data = (x_test, y_test), batch_size = batch_size, callbacks = [callback], verbose = 1)\n"
   ]
  },
  {
   "cell_type": "code",
   "execution_count": null,
   "id": "9106de32",
   "metadata": {
    "id": "9106de32",
    "scrolled": true
   },
   "outputs": [],
   "source": [
    "model.save(\"ANN_WeatherModel_Two_Params_ELU.h5\")"
   ]
  },
  {
   "cell_type": "code",
   "execution_count": null,
   "id": "52e6d501",
   "metadata": {
    "colab": {
     "base_uri": "https://localhost:8080/"
    },
    "id": "52e6d501",
    "outputId": "ba251101-b88c-497c-c8b0-e3908ce18dd7"
   },
   "outputs": [
    {
     "name": "stdout",
     "output_type": "stream",
     "text": [
      "dict_keys(['loss', 'categorical_accuracy', 'val_loss', 'val_categorical_accuracy'])\n"
     ]
    }
   ],
   "source": [
    "model_history = history.history\n",
    "print(model_history.keys())"
   ]
  },
  {
   "cell_type": "code",
   "execution_count": null,
   "id": "68ea4c1d",
   "metadata": {
    "colab": {
     "base_uri": "https://localhost:8080/",
     "height": 695
    },
    "id": "68ea4c1d",
    "outputId": "11d9cf90-b38e-49db-9a45-27f71906eb9f"
   },
   "outputs": [
    {
     "data": {
      "image/png": "[encoded data removed]",
      "text/plain": [
       "<Figure size 1008x720 with 1 Axes>"
      ]
     },
     "metadata": {},
     "output_type": "display_data"
    },
    {
     "data": {
      "image/png": "[encoded data removed]",
      "text/plain": [
       "<Figure size 1008x720 with 1 Axes>"
      ]
     },
     "metadata": {},
     "output_type": "display_data"
    }
   ],
   "source": [
    "\n",
    "validation_accu = model_history['val_categorical_accuracy']\n",
    "model_loss = model_history['loss']\n",
    "validation_loss = model_history['val_loss']\n",
    "model_accu = model_history['categorical_accuracy']\n",
    "epochs = range(len(model_accu))\n",
    "\n",
    "#plot for validation accuracy and Training Accuracy\n",
    "plot.figure(figsize = (14,10))\n",
    "plot.subplot(211)\n",
    "plot.plot(epochs, validation_accu, 'r', label = 'Validation Accuracy')\n",
    "plot.plot(epochs, model_accu, 'b', label = 'Training Accuracy')\n",
    "plot.xlabel('Epochs')\n",
    "plot.ylabel('Accuracy')\n",
    "plot.title('Validation Accuracy vs Training Accuracy')\n",
    "plot.legend()\n",
    "\n",
    "#plot for validation loss and Training loss\n",
    "plot.figure(figsize = (14,10))\n",
    "plot.subplot(212)\n",
    "plot.plot(epochs, validation_loss, 'r', label = 'Validation Loss')\n",
    "plot.plot(epochs, model_loss, 'b', label = 'Training Loss')\n",
    "plot.xlabel('Epochs')\n",
    "plot.ylabel('Loss')\n",
    "plot.title('Validation Loss vs Training Loss')\n",
    "plot.legend()\n",
    "\n",
    "plot.show()\n"
   ]
  },
  {
   "cell_type": "markdown",
   "id": "a4017578",
   "metadata": {
    "id": "a4017578"
   },
   "source": [
    "#### Keras Tuner\n",
    "While it might be easier to tune everything manually, but that is only when the training is done within a minute or you got a lot of time to spare. Otherwise, the best choice would be the keras-tuner which would help us find the best hyperparameter values to train our model."
   ]
  },
  {
   "cell_type": "code",
   "execution_count": null,
   "id": "4edecda9",
   "metadata": {
    "colab": {
     "base_uri": "https://localhost:8080/",
     "height": 107
    },
    "id": "4edecda9",
    "outputId": "4dc02722-cfd7-492c-fa62-be39cb9f96c4"
   },
   "outputs": [
    {
     "data": {
      "application/vnd.google.colaboratory.intrinsic+json": {
       "type": "string"
      },
      "text/plain": [
       "'\\ndef tune_model(hp):\\n    model = Sequential()\\n\\n    model.add(LSTM(hp.Int(\"LSTM_Nuerons\",\\n                          min_value=16,\\n                          max_value=256,\\n                          step=16), input_shape = (STEPS_IN_N, N_FEATURES), return_sequences=False))\\n    \\n    model.add(RepeatVector(STEPS_OUT_N))\\n    model.add(Dropout(rate=hp.Float(\"Dropout\",\\n                                     min_value=0.2,\\n                                     max_value=0.5,\\n                                     step=0.05)))\\n\\n    \\n    model.add(LSTM(hp.Int(\"LSTM_Nuerons\",\\n                          min_value=16,\\n                          max_value=256,\\n                          step=16), return_sequences=True))\\n    \\n    model.add(Dropout(rate=hp.Float(\"Dropout\",\\n                                     min_value=0.2,\\n                                     max_value=0.5,\\n                                     step=0.05)))\\n\\n    \\n    model.add(TimeDistributed(Dense(N_LABELS, activation=\\'softmax\\')))\\n\\n    batch_size = 32\\n    opt = tf.keras.optimizers.Adam(hp.Float(\\n                    \"learning_rate\",\\n                    min_value=0.000001,\\n                    max_value=0.005,\\n                    step=0.00001\\n                ), \\n                    hp.Float(\\n                    \"beta_1_unit\",\\n                    min_value=0.9,\\n                    max_value=0.97,\\n                    step=0.01\\n                    ), \\n                    hp.Float(\\n                    \"decay_unit\",\\n                    min_value=1e-7,\\n                    max_value=1e-3,\\n                    step=1e-6))\\n    \\n    model.compile(optimizer = opt, loss = \"categorical_crossentropy\", metrics=[\\'categorical_accuracy\\'])\\n    \\n    return model\\n'"
      ]
     },
     "execution_count": 85,
     "metadata": {},
     "output_type": "execute_result"
    }
   ],
   "source": [
    "\"\"\"\n",
    "def tune_model(hp):\n",
    "    model = Sequential()\n",
    "\n",
    "    model.add(LSTM(hp.Int(\"LSTM_Nuerons\",\n",
    "                          min_value=16,\n",
    "                          max_value=256,\n",
    "                          step=16), input_shape = (STEPS_IN_N, N_FEATURES), return_sequences=False))\n",
    "    \n",
    "    model.add(RepeatVector(STEPS_OUT_N))\n",
    "    model.add(Dropout(rate=hp.Float(\"Dropout\",\n",
    "                                     min_value=0.2,\n",
    "                                     max_value=0.5,\n",
    "                                     step=0.05)))\n",
    "\n",
    "    \n",
    "    model.add(LSTM(hp.Int(\"LSTM_Nuerons\",\n",
    "                          min_value=16,\n",
    "                          max_value=256,\n",
    "                          step=16), return_sequences=True))\n",
    "    \n",
    "    model.add(Dropout(rate=hp.Float(\"Dropout\",\n",
    "                                     min_value=0.2,\n",
    "                                     max_value=0.5,\n",
    "                                     step=0.05)))\n",
    "\n",
    "    \n",
    "    model.add(TimeDistributed(Dense(N_LABELS, activation='softmax')))\n",
    "\n",
    "    batch_size = 32\n",
    "    opt = tf.keras.optimizers.Adam(hp.Float(\n",
    "                    \"learning_rate\",\n",
    "                    min_value=0.000001,\n",
    "                    max_value=0.005,\n",
    "                    step=0.00001\n",
    "                ), \n",
    "                    hp.Float(\n",
    "                    \"beta_1_unit\",\n",
    "                    min_value=0.9,\n",
    "                    max_value=0.97,\n",
    "                    step=0.01\n",
    "                    ), \n",
    "                    hp.Float(\n",
    "                    \"decay_unit\",\n",
    "                    min_value=1e-7,\n",
    "                    max_value=1e-3,\n",
    "                    step=1e-6))\n",
    "    \n",
    "    model.compile(optimizer = opt, loss = \"categorical_crossentropy\", metrics=['categorical_accuracy'])\n",
    "    \n",
    "    return model\n",
    "\"\"\""
   ]
  },
  {
   "cell_type": "code",
   "execution_count": null,
   "id": "07d894df",
   "metadata": {
    "colab": {
     "base_uri": "https://localhost:8080/",
     "height": 35
    },
    "id": "07d894df",
    "outputId": "528541f1-43bf-4798-ae4d-a7950547bd9e"
   },
   "outputs": [
    {
     "data": {
      "application/vnd.google.colaboratory.intrinsic+json": {
       "type": "string"
      },
      "text/plain": [
       "'\\ntuner = kt.RandomSearch(\\n    hypermodel=tune_model,\\n    objective=\"val_loss\",\\n    max_trials=25,\\n    executions_per_trial=2,\\n)\\n'"
      ]
     },
     "execution_count": 86,
     "metadata": {},
     "output_type": "execute_result"
    }
   ],
   "source": [
    "\"\"\"\n",
    "tuner = kt.RandomSearch(\n",
    "    hypermodel=tune_model,\n",
    "    objective=\"val_loss\",\n",
    "    max_trials=25,\n",
    "    executions_per_trial=2,\n",
    ")\n",
    "\"\"\""
   ]
  },
  {
   "cell_type": "code",
   "execution_count": null,
   "id": "a547e03b",
   "metadata": {
    "id": "a547e03b",
    "scrolled": false
   },
   "outputs": [],
   "source": [
    "#tuner.search(x_train, y_train, epochs = 30, validation_data=(x_test, y_test), verbose = 2)"
   ]
  },
  {
   "cell_type": "code",
   "execution_count": null,
   "id": "28ffe25f",
   "metadata": {
    "colab": {
     "base_uri": "https://localhost:8080/",
     "height": 35
    },
    "id": "28ffe25f",
    "outputId": "e69734ce-8ec6-4b85-f777-6ede97755328"
   },
   "outputs": [
    {
     "data": {
      "application/vnd.google.colaboratory.intrinsic+json": {
       "type": "string"
      },
      "text/plain": [
       "'\\nprint(tuner.results_summary())\\n\\nprint(\"\\n\\n\",tuner.search_space_summary())\\n\\nbest_model = tuner.get_best_models()[0]\\nprint(best_model)\\n'"
      ]
     },
     "execution_count": 88,
     "metadata": {},
     "output_type": "execute_result"
    }
   ],
   "source": [
    "\"\"\"\n",
    "print(tuner.results_summary())\n",
    "\n",
    "print(\"\\n\\n\",tuner.search_space_summary())\n",
    "\n",
    "best_model = tuner.get_best_models()[0]\n",
    "print(best_model)\n",
    "\"\"\""
   ]
  },
  {
   "cell_type": "markdown",
   "id": "e45da339",
   "metadata": {
    "id": "e45da339"
   },
   "source": [
    "#### Testing the prediction\n",
    "We test the prediction by printing out the expected result on the left with the predicted result on the right to see whether or not if the model perfectly label the weather."
   ]
  },
  {
   "cell_type": "code",
   "execution_count": null,
   "id": "f349554e",
   "metadata": {
    "id": "f349554e"
   },
   "outputs": [],
   "source": [
    "#labels = np.array([\"Cloudy\", \"Foggy\", \"Rainy\", \"Sunny\"])\n",
    "\n",
    "#predicted = model.predict(x_test, batch_size=1, verbose=1)\n",
    "\n",
    "#print(\"Predicted:\\n\",predicted)\n",
    "\n",
    "#predicted = np.argmax(predicted, axis=-1)\n",
    "#predicted = labels[predicted]\n",
    "\n",
    "#print(\"Predicted:\\n\",predicted)\n",
    "\n",
    "#expected_result = labels[np.argmax(y_test, axis=None)]\n",
    "\n",
    "#print(\"Expected:\\n\",expected_result)\n",
    "\n",
    "#unique_pred, frequency_pred = np.unique(predicted, return_counts = True)\n",
    "\n",
    "#unique_test, frequency_test = np.unique(expected_result, return_counts = True)\n",
    "\n",
    "# print unique values array\n",
    "#print(\"Unique Prediction Values:\", \n",
    "#      unique_pred)\n",
    "  \n",
    "# print frequency array\n",
    "#print(\"Frequency Prediction Values:\",\n",
    "#      frequency_pred)\n",
    "\n",
    "# print unique values array\n",
    "#print(\"Unique Test Values:\", \n",
    "#      unique_test)\n",
    "  \n",
    "# print frequency array\n",
    "#print(\"Frequency Test Values:\",\n",
    "#      frequency_test)\n",
    "\n",
    "#print(f\"Expected weather condition: \\n{expected_result}\\nPredicted weather condition: \\n{predicted}\\n\")"
   ]
  },
  {
   "cell_type": "code",
   "execution_count": null,
   "id": "42684176",
   "metadata": {
    "colab": {
     "base_uri": "https://localhost:8080/"
    },
    "id": "42684176",
    "outputId": "77d705a8-b5e4-4409-a84a-4e8cbfc963c3",
    "scrolled": true
   },
   "outputs": [
    {
     "name": "stdout",
     "output_type": "stream",
     "text": [
      "5929/5929 [==============================] - 9s 1ms/sample\n",
      "[[1 0 0 0]\n",
      " [0 1 0 0]\n",
      " [0 0 0 0]\n",
      " ...\n",
      " [1 0 0 0]\n",
      " [0 0 0 0]\n",
      " [0 0 0 0]]\n",
      "Accuracy: 0.198853\n",
      "Precision: 0.625133\n",
      "Recall: 0.199122\n",
      "F1 score: 0.302037\n",
      "              precision    recall  f1-score   support\n",
      "\n",
      "           0       0.28      0.54      0.37       857\n",
      "           1       0.68      0.70      0.69      1028\n",
      "           2       0.00      0.00      0.00         0\n",
      "           3       0.00      0.00      0.00         1\n",
      "\n",
      "   micro avg       0.20      0.63      0.30      1886\n",
      "   macro avg       0.24      0.31      0.26      1886\n",
      "weighted avg       0.50      0.63      0.54      1886\n",
      " samples avg       0.20      0.20      0.20      1886\n",
      "\n"
     ]
    },
    {
     "name": "stderr",
     "output_type": "stream",
     "text": [
      "/usr/local/lib/python3.7/dist-packages/sklearn/metrics/_classification.py:1318: UndefinedMetricWarning: Recall and F-score are ill-defined and being set to 0.0 in labels with no true samples. Use `zero_division` parameter to control this behavior.\n",
      "  _warn_prf(average, modifier, msg_start, len(result))\n",
      "/usr/local/lib/python3.7/dist-packages/sklearn/metrics/_classification.py:1318: UndefinedMetricWarning: Precision and F-score are ill-defined and being set to 0.0 in samples with no predicted labels. Use `zero_division` parameter to control this behavior.\n",
      "  _warn_prf(average, modifier, msg_start, len(result))\n",
      "/usr/local/lib/python3.7/dist-packages/sklearn/metrics/_classification.py:1318: UndefinedMetricWarning: Recall and F-score are ill-defined and being set to 0.0 in samples with no true labels. Use `zero_division` parameter to control this behavior.\n",
      "  _warn_prf(average, modifier, msg_start, len(result))\n"
     ]
    }
   ],
   "source": [
    "from sklearn.metrics import accuracy_score, precision_score, recall_score, f1_score\n",
    "\n",
    "predicted = model.predict(x_test, batch_size=1, verbose=1)\n",
    "#predicted = np.argmax(predicted, axis=-1)\n",
    "#predicted = labels[predicted]\n",
    "\n",
    "predicted = np.where(predicted >= 0.5, 1, 0)\n",
    "\n",
    "#predicted = np.unravel_index(np.argmax(predicted), np.array(x_test).shape)\n",
    "\n",
    "#predicted = np.argmax(predicted, axis=-1)\n",
    "\n",
    "print(predicted)\n",
    "\n",
    "#y_test = y_test.values.argmax(axis=1)\n",
    "\n",
    "print(\"Accuracy: %f\" % accuracy_score(y_test, predicted))\n",
    "print(\"Precision: %f\" % precision_score(y_test, predicted, average=\"micro\"))\n",
    "print(\"Recall: %f\" % recall_score(y_test, predicted, average=\"micro\"))\n",
    "print(\"F1 score: %f\" % f1_score(y_test, predicted, average=\"micro\"))\n",
    "\n",
    "print(classification_report(predicted, y_test))"
   ]
  },
  {
   "cell_type": "code",
   "execution_count": null,
   "id": "a55bd95c",
   "metadata": {
    "colab": {
     "base_uri": "https://localhost:8080/",
     "height": 300
    },
    "id": "a55bd95c",
    "outputId": "658deea9-4c58-4ba8-a008-79e39b6d9930"
   },
   "outputs": [
    {
     "data": {
      "text/plain": [
       "<matplotlib.axes._subplots.AxesSubplot at 0x7fa66b3f49d0>"
      ]
     },
     "execution_count": 91,
     "metadata": {},
     "output_type": "execute_result"
    },
    {
     "data": {
      "image/png": "[encoded data removed]",
      "text/plain": [
       "<Figure size 432x288 with 2 Axes>"
      ]
     },
     "metadata": {},
     "output_type": "display_data"
    }
   ],
   "source": [
    "# Using heatmap, it should show that the heatmap has a straight diagonal line from top left to bottom\n",
    "# right without other gradients on the side showing that it is predicting perfectly\n",
    "\n",
    "# The higher the number of the block shows that the model thinks that the two variables are correlated\n",
    "# to each other.\n",
    "\n",
    "sns.heatmap(confusion_matrix(y_test.values.argmax(axis=1), predicted.argmax(axis=1)), annot = True, cmap=\"Blues\")"
   ]
  },
  {
   "cell_type": "markdown",
   "id": "e2a9f068",
   "metadata": {
    "id": "e2a9f068"
   },
   "source": [
    "#### Conversion of model to tensorflow lite Float32 model"
   ]
  },
  {
   "cell_type": "code",
   "execution_count": null,
   "id": "e643dee5",
   "metadata": {
    "id": "e643dee5"
   },
   "outputs": [],
   "source": [
    "root_path = \"/content/\"\n",
    "model_filename = 'ANN_WeatherModel_Two_Params_ELU.h5'\n",
    "checkpoint_filepath = os.path.join(root_path, model_filename)\n",
    "model = tf.keras.models.load_model(checkpoint_filepath)"
   ]
  },
  {
   "cell_type": "code",
   "execution_count": null,
   "id": "VaRcbHML5NU0",
   "metadata": {
    "id": "VaRcbHML5NU0"
   },
   "outputs": [],
   "source": [
    "# model = '/content/ANN_WeatherModel_Two_Params.h5'\n",
    "# loaded_model = tf.keras.models.load_model(model)"
   ]
  },
  {
   "cell_type": "code",
   "execution_count": null,
   "id": "c5d68294",
   "metadata": {
    "colab": {
     "base_uri": "https://localhost:8080/"
    },
    "id": "c5d68294",
    "outputId": "99d61985-f42d-45a0-b053-9a5a9cfc9c9c"
   },
   "outputs": [
    {
     "name": "stdout",
     "output_type": "stream",
     "text": [
      "5360\n"
     ]
    }
   ],
   "source": [
    "#def representative_dataset_gen():\n",
    "#    for i in range(100):\n",
    "#      data = np.expand_dims(x_test[i], axis=0)\n",
    "#      yield [data.astype(np.float32)]\n",
    "\n",
    "converter = tf.lite.TFLiteConverter.from_keras_model(model)\n",
    "converter.optimizations = [tf.lite.Optimize.DEFAULT]\n",
    "#converter.representative_dataset = representative_dataset_gen\n",
    "converter.target_spec.supported_ops = [tf.lite.OpsSet.TFLITE_BUILTINS, tf.lite.OpsSet.SELECT_TF_OPS]\n",
    "#converter.target_spec.supported_types = [tf.float16]\n",
    "converter._experimental_lower_tensor_list_ops = False\n",
    "converter.inference_type = tf.float32\n",
    "converter.inference_input_type = tf.float32\n",
    "converter.inference_output_type = tf.float32\n",
    "tflite_model = converter.convert()\n",
    "\n",
    "print(len(tflite_model))\n",
    "\n",
    "#train_dataset = tf.data.Dataset.from_tensor_slices((X_train, y_train))\n",
    "#representative_dataset = tf.data.Dataset.from_tensor_slices(y_train.astype(np.int8))\n",
    "\n",
    "#converter = tf.lite.TFLiteConverter.from_keras_model(model)\n",
    "#converter.optimizations = [tf.lite.Optimize.DEFAULT]\n",
    "\n",
    "#converter.representative_dataset = representative_dataset_gen\n",
    "#tflite_model = converter.convert()"
   ]
  },
  {
   "cell_type": "code",
   "execution_count": null,
   "id": "49e6d3de",
   "metadata": {
    "id": "49e6d3de"
   },
   "outputs": [],
   "source": [
    "interpreter = tf.lite.Interpreter(model_content = tflite_model)\n",
    "interpreter.allocate_tensors()\n",
    "\n",
    "#input_scale, input_zero_point = interpreter.get_tensor_details()[0][\"quantization\"]\n",
    "input_details = interpreter.get_input_details()\n",
    "output_details = interpreter.get_output_details()"
   ]
  },
  {
   "cell_type": "code",
   "execution_count": null,
   "id": "40664734",
   "metadata": {
    "colab": {
     "base_uri": "https://localhost:8080/"
    },
    "id": "40664734",
    "outputId": "ff094716-a810-46cd-d04e-6166aa1364c4"
   },
   "outputs": [
    {
     "data": {
      "text/plain": [
       "[{'dtype': numpy.float32,\n",
       "  'index': 1,\n",
       "  'name': 'dense_24_input',\n",
       "  'quantization': (0.0, 0),\n",
       "  'shape': array([1, 2], dtype=int32)}]"
      ]
     },
     "execution_count": 96,
     "metadata": {},
     "output_type": "execute_result"
    }
   ],
   "source": [
    "input_details"
   ]
  },
  {
   "cell_type": "code",
   "execution_count": null,
   "id": "dee4242d",
   "metadata": {
    "colab": {
     "base_uri": "https://localhost:8080/"
    },
    "id": "dee4242d",
    "outputId": "7d5dbddd-42a8-4d02-a917-17d379917abb"
   },
   "outputs": [
    {
     "data": {
      "text/plain": [
       "[{'dtype': numpy.float32,\n",
       "  'index': 0,\n",
       "  'name': 'Identity',\n",
       "  'quantization': (0.0, 0),\n",
       "  'shape': array([1, 4], dtype=int32)}]"
      ]
     },
     "execution_count": 97,
     "metadata": {},
     "output_type": "execute_result"
    }
   ],
   "source": [
    "output_details"
   ]
  },
  {
   "cell_type": "code",
   "execution_count": null,
   "id": "f7695086",
   "metadata": {
    "id": "f7695086"
   },
   "outputs": [],
   "source": [
    "#for i in range(10):\n",
    "#  predict_ids = np.array(x_test[i:i+1])\n",
    "#  print(predict_ids)\n",
    "\n",
    "#  expected = model.predict(predict_ids)\n",
    "#  print(expected)\n",
    "\n",
    "# input_ids = np.array(x_test[i:i+1,:], dtype=np.float32)\n",
    "#  print(input_ids)\n",
    "\n",
    "#  print(model.predict(input_ids))\n",
    "\n",
    "#  set_tensor_details = interpreter.set_tensor(input_details[0]['index'], input_ids)\n",
    "#  print(set_tensor_details)\n",
    "\n",
    "#  invoke_details = interpreter.invoke()\n",
    "#  print(invoke_details)\n",
    "\n",
    "#  result = interpreter.get_tensor(output_details[0]['index'])\n",
    "# print(result)\n",
    "\n",
    "  # Assert if the result of TFLite model is consistent with the TF model.\n",
    "#  np.testing.assert_almost_equal(expected, result, decimal=2)\n",
    "#  print(\"Done. The result of TensorFlow matches the result of TensorFlow Lite.\")\n",
    "\n",
    "  # Please note: TfLite fused Lstm kernel is stateful, so we need to reset\n",
    "  # the states.\n",
    "  # Clean up internal states.\n",
    "#  interpreter.reset_all_variables()"
   ]
  },
  {
   "cell_type": "code",
   "execution_count": null,
   "id": "7d76f94d",
   "metadata": {
    "colab": {
     "base_uri": "https://localhost:8080/"
    },
    "id": "7d76f94d",
    "outputId": "c329eb68-ce2e-4d5d-efca-dd1daced2f21"
   },
   "outputs": [
    {
     "name": "stdout",
     "output_type": "stream",
     "text": [
      "Model is 5360 bytes\n",
      "Reading package lists... Done\n",
      "Building dependency tree       \n",
      "Reading state information... Done\n",
      "xxd is already the newest version (2:8.0.1453-1ubuntu1.8).\n",
      "0 upgraded, 0 newly installed, 0 to remove and 39 not upgraded.\n"
     ]
    }
   ],
   "source": [
    "open(\"ANN_WeatherModel_Two_Params.tflite\", \"wb\").write(tflite_model)\n",
    "\n",
    "basic_model_size = os.path.getsize(\"ANN_WeatherModel_Two_Params.tflite\")\n",
    "print(\"Model is %d bytes\" % basic_model_size)\n",
    "\n",
    "!apt install xxd\n",
    "!xxd -i ANN_WeatherModel_Two_Params.tflite > ANN_WeatherModel_Two_Params.h\n",
    "    \n"
   ]
  },
  {
   "cell_type": "code",
   "execution_count": null,
   "id": "8e9def04",
   "metadata": {
    "colab": {
     "base_uri": "https://localhost:8080/"
    },
    "id": "8e9def04",
    "outputId": "5f6598be-6256-48fc-87db-c5012f480ef8"
   },
   "outputs": [
    {
     "name": "stdout",
     "output_type": "stream",
     "text": [
      "Header file, ANN_WeatherModel_Two_Params.h, is 33,171 bytes.\n"
     ]
    }
   ],
   "source": [
    "model_h_size = os.path.getsize(\"ANN_WeatherModel_Two_Params.h\")\n",
    "print(f\"Header file, ANN_WeatherModel_Two_Params.h, is {model_h_size:,} bytes.\")"
   ]
  }
 ],
 "metadata": {
  "accelerator": "GPU",
  "colab": {
   "collapsed_sections": [],
   "name": "Two_Params_Online_Dataset_Weather_Station_AI_Tech_ANN_ELU.ipynb",
   "provenance": []
  },
  "kernelspec": {
   "display_name": "Python 3 (ipykernel)",
   "language": "python",
   "name": "python3"
  },
  "language_info": {
   "codemirror_mode": {
    "name": "ipython",
    "version": 3
   },
   "file_extension": ".py",
   "mimetype": "text/x-python",
   "name": "python",
   "nbconvert_exporter": "python",
   "pygments_lexer": "ipython3",
   "version": "3.9.12"
  },
  "varInspector": {
   "cols": {
    "lenName": 16,
    "lenType": 16,
    "lenVar": 40
   },
   "kernels_config": {
    "python": {
     "delete_cmd_postfix": "",
     "delete_cmd_prefix": "del ",
     "library": "var_list.py",
     "varRefreshCmd": "print(var_dic_list())"
    },
    "r": {
     "delete_cmd_postfix": ") ",
     "delete_cmd_prefix": "rm(",
     "library": "var_list.r",
     "varRefreshCmd": "cat(var_dic_list()) "
    }
   },
   "types_to_exclude": [
    "module",
    "function",
    "builtin_function_or_method",
    "instance",
    "_Feature"
   ],
   "window_display": false
  }
 },
 "nbformat": 4,
 "nbformat_minor": 5
}
